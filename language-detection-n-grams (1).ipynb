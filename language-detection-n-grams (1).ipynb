{
 "cells": [
  {
   "cell_type": "markdown",
   "metadata": {
    "_uuid": "0b0c7f1f8bbb6a45cd6f420b29bf6853a8a47865",
    "colab_type": "text",
    "id": "pOx-bOm64KTH"
   },
   "source": [
    "### Import Libraries"
   ]
  },
  {
   "cell_type": "code",
   "execution_count": 1,
   "metadata": {
    "execution": {
     "iopub.execute_input": "2023-04-20T00:11:49.624378Z",
     "iopub.status.busy": "2023-04-20T00:11:49.624116Z",
     "iopub.status.idle": "2023-04-20T00:11:56.624237Z",
     "shell.execute_reply": "2023-04-20T00:11:56.623157Z",
     "shell.execute_reply.started": "2023-04-20T00:11:49.624339Z"
    }
   },
   "outputs": [
    {
     "name": "stdout",
     "output_type": "stream",
     "text": [
      "Requirement already satisfied: wget in /opt/conda/lib/python3.6/site-packages (3.2)\n",
      "\u001b[33mYou are using pip version 18.1, however version 21.3.1 is available.\n",
      "You should consider upgrading via the 'pip install --upgrade pip' command.\u001b[0m\n"
     ]
    }
   ],
   "source": [
    "!pip install wget"
   ]
  },
  {
   "cell_type": "code",
   "execution_count": 2,
   "metadata": {
    "execution": {
     "iopub.execute_input": "2023-04-20T00:11:56.628611Z",
     "iopub.status.busy": "2023-04-20T00:11:56.628387Z",
     "iopub.status.idle": "2023-04-20T00:11:57.591042Z",
     "shell.execute_reply": "2023-04-20T00:11:57.589950Z",
     "shell.execute_reply.started": "2023-04-20T00:11:56.628570Z"
    }
   },
   "outputs": [
    {
     "name": "stdout",
     "output_type": "stream",
     "text": [
      "[nltk_data] Downloading package stopwords to /usr/share/nltk_data...\n",
      "[nltk_data]   Package stopwords is already up-to-date!\n"
     ]
    }
   ],
   "source": [
    "import warnings, wget\n",
    "warnings.filterwarnings(\"ignore\")\n",
    "wget.download(\"https://raw.githubusercontent.com/yogawicaksana/helper_prabowo/main/helper_prabowo_ml.py\",out=\"helper_prabowo_ml.py\")\n",
    "\n",
    "from helper_prabowo_ml import clean_html, remove_links, remove_special_characters, removeStopWords, remove_, remove_digits, lower, email_address, non_ascii, punct, hashtags"
   ]
  },
  {
   "cell_type": "markdown",
   "metadata": {
    "_uuid": "7dca810e65e14c6ecf906eeb31f3a968e7b3fcd3",
    "colab_type": "text",
    "id": "1M-hkFoo4KTT"
   },
   "source": [
    "### Prepare dataset"
   ]
  },
  {
   "cell_type": "code",
   "execution_count": 3,
   "metadata": {
    "_uuid": "42e28b5feb0a9b739d2a1768569fc21c2a7ec9c0",
    "colab": {
     "base_uri": "https://localhost:8080/",
     "height": 1969
    },
    "colab_type": "code",
    "execution": {
     "iopub.execute_input": "2023-04-20T00:11:57.593209Z",
     "iopub.status.busy": "2023-04-20T00:11:57.592621Z",
     "iopub.status.idle": "2023-04-20T00:11:57.919167Z",
     "shell.execute_reply": "2023-04-20T00:11:57.918045Z",
     "shell.execute_reply.started": "2023-04-20T00:11:57.593142Z"
    },
    "id": "99r7cnBBswSM",
    "outputId": "edc48ac9-d0b6-4139-bab7-ac95c458fec3"
   },
   "outputs": [],
   "source": [
    "import pandas as pd\n",
    "import os\n",
    "dataset = pd.DataFrame(columns=['Text','Language'])\n",
    "for filename in os.listdir('/kaggle/input/lang-data'):\n",
    "    f = os.path.join('/kaggle/input/lang-data', filename)\n",
    "    if 'csv' in filename:\n",
    "        if 'sentences' not in filename:\n",
    "            df1 = pd.read_csv(f)\n",
    "            if 'language' in df1.columns:\n",
    "                df1=df1.rename(columns={'language':'Language'})\n",
    "            dataset = pd.concat([dataset,df1],axis=0)  "
   ]
  },
  {
   "cell_type": "code",
   "execution_count": 4,
   "metadata": {
    "execution": {
     "iopub.execute_input": "2023-04-20T00:11:57.920896Z",
     "iopub.status.busy": "2023-04-20T00:11:57.920583Z",
     "iopub.status.idle": "2023-04-20T00:11:57.936879Z",
     "shell.execute_reply": "2023-04-20T00:11:57.935823Z",
     "shell.execute_reply.started": "2023-04-20T00:11:57.920840Z"
    }
   },
   "outputs": [
    {
     "data": {
      "text/plain": [
       "(45490, 2)"
      ]
     },
     "execution_count": 4,
     "metadata": {},
     "output_type": "execute_result"
    }
   ],
   "source": [
    "dataset.shape"
   ]
  },
  {
   "cell_type": "code",
   "execution_count": 5,
   "metadata": {
    "execution": {
     "iopub.execute_input": "2023-04-20T00:11:57.938633Z",
     "iopub.status.busy": "2023-04-20T00:11:57.938332Z",
     "iopub.status.idle": "2023-04-20T00:11:57.953966Z",
     "shell.execute_reply": "2023-04-20T00:11:57.952616Z",
     "shell.execute_reply.started": "2023-04-20T00:11:57.938579Z"
    }
   },
   "outputs": [],
   "source": [
    "dataset.Language.replace(to_replace=['Portugeese','Sweedish'],value=['Portuguese','Swedish'],inplace=True)"
   ]
  },
  {
   "cell_type": "code",
   "execution_count": 6,
   "metadata": {
    "execution": {
     "iopub.execute_input": "2023-04-20T00:11:57.955437Z",
     "iopub.status.busy": "2023-04-20T00:11:57.955128Z",
     "iopub.status.idle": "2023-04-20T00:11:57.968830Z",
     "shell.execute_reply": "2023-04-20T00:11:57.967801Z",
     "shell.execute_reply.started": "2023-04-20T00:11:57.955374Z"
    }
   },
   "outputs": [
    {
     "data": {
      "text/plain": [
       "array(['English', 'Malayalam', 'Hindi', 'Tamil', 'Portuguese', 'French',\n",
       "       'Dutch', 'Spanish', 'Greek', 'Russian', 'Danish', 'Italian',\n",
       "       'Turkish', 'Swedish', 'Arabic', 'German', 'Kannada', 'Darija',\n",
       "       'Estonian', 'Thai', 'Japanese', 'Latin', 'Urdu', 'Indonesian',\n",
       "       'Portugese', 'Chinese', 'Korean', 'Pushto', 'Persian', 'Romanian'],\n",
       "      dtype=object)"
      ]
     },
     "execution_count": 6,
     "metadata": {},
     "output_type": "execute_result"
    }
   ],
   "source": [
    "dataset['Language'].unique()"
   ]
  },
  {
   "cell_type": "code",
   "execution_count": 7,
   "metadata": {
    "execution": {
     "iopub.execute_input": "2023-04-20T00:11:57.970362Z",
     "iopub.status.busy": "2023-04-20T00:11:57.970063Z",
     "iopub.status.idle": "2023-04-20T00:11:58.108332Z",
     "shell.execute_reply": "2023-04-20T00:11:58.107218Z",
     "shell.execute_reply.started": "2023-04-20T00:11:57.970306Z"
    }
   },
   "outputs": [],
   "source": [
    "sizes = dict()\n",
    "for lang in dataset['Language'].unique():\n",
    "    temp = dataset[dataset['Language']== lang]\n",
    "    sizes[lang] = temp.shape[0]"
   ]
  },
  {
   "cell_type": "code",
   "execution_count": 8,
   "metadata": {
    "execution": {
     "iopub.execute_input": "2023-04-20T00:11:58.110209Z",
     "iopub.status.busy": "2023-04-20T00:11:58.109900Z",
     "iopub.status.idle": "2023-04-20T00:12:14.079957Z",
     "shell.execute_reply": "2023-04-20T00:12:14.078988Z",
     "shell.execute_reply.started": "2023-04-20T00:11:58.110154Z"
    }
   },
   "outputs": [
    {
     "data": {
      "text/plain": [
       "(10341812, 3)"
      ]
     },
     "execution_count": 8,
     "metadata": {},
     "output_type": "execute_result"
    }
   ],
   "source": [
    "temp = pd.read_csv('/kaggle/input/lang-data/sentences.csv')\n",
    "temp.shape"
   ]
  },
  {
   "cell_type": "code",
   "execution_count": 9,
   "metadata": {
    "execution": {
     "iopub.execute_input": "2023-04-20T00:12:14.081621Z",
     "iopub.status.busy": "2023-04-20T00:12:14.081302Z",
     "iopub.status.idle": "2023-04-20T00:12:14.087154Z",
     "shell.execute_reply": "2023-04-20T00:12:14.086152Z",
     "shell.execute_reply.started": "2023-04-20T00:12:14.081566Z"
    }
   },
   "outputs": [],
   "source": [
    "import json\n",
    "with open('/kaggle/input/lang-data-json/lan_to_language.json', 'r') as f:\n",
    "    js_file = json.load(f)"
   ]
  },
  {
   "cell_type": "code",
   "execution_count": 10,
   "metadata": {
    "execution": {
     "iopub.execute_input": "2023-04-20T00:12:14.089016Z",
     "iopub.status.busy": "2023-04-20T00:12:14.088727Z",
     "iopub.status.idle": "2023-04-20T00:12:14.100131Z",
     "shell.execute_reply": "2023-04-20T00:12:14.098913Z",
     "shell.execute_reply.started": "2023-04-20T00:12:14.088966Z"
    }
   },
   "outputs": [],
   "source": [
    "js_ls = []\n",
    "count = 0\n",
    "s = []\n",
    "for lang in sizes.keys():\n",
    "    if lang in js_file.values():\n",
    "        count = count + 1\n",
    "        js_ls.append(lang)\n",
    "        s.append(sizes[lang])"
   ]
  },
  {
   "cell_type": "code",
   "execution_count": 11,
   "metadata": {
    "execution": {
     "iopub.execute_input": "2023-04-20T00:12:14.102204Z",
     "iopub.status.busy": "2023-04-20T00:12:14.101922Z",
     "iopub.status.idle": "2023-04-20T00:12:14.110424Z",
     "shell.execute_reply": "2023-04-20T00:12:14.109580Z",
     "shell.execute_reply.started": "2023-04-20T00:12:14.102157Z"
    }
   },
   "outputs": [],
   "source": [
    "def get_key(val):\n",
    "    for key, value in js_file.items():\n",
    "        if val == value:\n",
    "            return key"
   ]
  },
  {
   "cell_type": "code",
   "execution_count": 12,
   "metadata": {
    "execution": {
     "iopub.execute_input": "2023-04-20T00:12:14.111972Z",
     "iopub.status.busy": "2023-04-20T00:12:14.111609Z",
     "iopub.status.idle": "2023-04-20T00:12:34.214350Z",
     "shell.execute_reply": "2023-04-20T00:12:34.213269Z",
     "shell.execute_reply.started": "2023-04-20T00:12:14.111913Z"
    }
   },
   "outputs": [],
   "source": [
    "new_s = dict()\n",
    "for i in js_ls:\n",
    "    new_s[i] = temp[temp['lan_code']==get_key(i)].shape[0]"
   ]
  },
  {
   "cell_type": "code",
   "execution_count": 13,
   "metadata": {
    "execution": {
     "iopub.execute_input": "2023-04-20T00:12:34.216073Z",
     "iopub.status.busy": "2023-04-20T00:12:34.215782Z",
     "iopub.status.idle": "2023-04-20T00:12:34.221966Z",
     "shell.execute_reply": "2023-04-20T00:12:34.220895Z",
     "shell.execute_reply.started": "2023-04-20T00:12:34.216015Z"
    }
   },
   "outputs": [],
   "source": [
    "f = dict()\n",
    "for i in new_s.keys():\n",
    "    if i in sizes.keys():\n",
    "        t = new_s[i] + sizes[i]\n",
    "    if t > 10000:\n",
    "        f[i] = t"
   ]
  },
  {
   "cell_type": "code",
   "execution_count": 14,
   "metadata": {
    "execution": {
     "iopub.execute_input": "2023-04-20T00:12:34.223356Z",
     "iopub.status.busy": "2023-04-20T00:12:34.223111Z",
     "iopub.status.idle": "2023-04-20T00:12:34.235901Z",
     "shell.execute_reply": "2023-04-20T00:12:34.234847Z",
     "shell.execute_reply.started": "2023-04-20T00:12:34.223310Z"
    }
   },
   "outputs": [],
   "source": [
    "dataset = dataset.rename(columns={'Text':'sentence'})"
   ]
  },
  {
   "cell_type": "code",
   "execution_count": 15,
   "metadata": {
    "execution": {
     "iopub.execute_input": "2023-04-20T00:12:34.237470Z",
     "iopub.status.busy": "2023-04-20T00:12:34.237149Z",
     "iopub.status.idle": "2023-04-20T00:12:34.249835Z",
     "shell.execute_reply": "2023-04-20T00:12:34.249022Z",
     "shell.execute_reply.started": "2023-04-20T00:12:34.237390Z"
    }
   },
   "outputs": [
    {
     "data": {
      "text/plain": [
       "dict"
      ]
     },
     "execution_count": 15,
     "metadata": {},
     "output_type": "execute_result"
    }
   ],
   "source": [
    "type(f)"
   ]
  },
  {
   "cell_type": "code",
   "execution_count": 16,
   "metadata": {
    "execution": {
     "iopub.execute_input": "2023-04-20T00:12:34.251024Z",
     "iopub.status.busy": "2023-04-20T00:12:34.250765Z",
     "iopub.status.idle": "2023-04-20T00:12:50.213065Z",
     "shell.execute_reply": "2023-04-20T00:12:50.212324Z",
     "shell.execute_reply.started": "2023-04-20T00:12:34.250969Z"
    }
   },
   "outputs": [],
   "source": [
    "l=[]\n",
    "for lan in f.keys():\n",
    "    temp1 = dataset[dataset['Language']==lan]['sentence']\n",
    "    temp2 = temp[temp['lan_code']==get_key(lan)]['sentence']\n",
    "    final = pd.DataFrame(columns=['sentence','language'])\n",
    "    final['sentence'] = pd.concat([temp1,temp2])\n",
    "    final = final.assign(language=lan)\n",
    "    final = final.reset_index(drop=True)\n",
    "    l.append(final)"
   ]
  },
  {
   "cell_type": "code",
   "execution_count": 17,
   "metadata": {
    "execution": {
     "iopub.execute_input": "2023-04-20T00:12:50.215087Z",
     "iopub.status.busy": "2023-04-20T00:12:50.214713Z",
     "iopub.status.idle": "2023-04-20T00:12:50.690127Z",
     "shell.execute_reply": "2023-04-20T00:12:50.689351Z",
     "shell.execute_reply.started": "2023-04-20T00:12:50.215016Z"
    }
   },
   "outputs": [],
   "source": [
    "import random\n",
    "final_data = pd.DataFrame(columns=['sentence','language'])\n",
    "for i in range(len(l)):\n",
    "    n = random.randrange(10000,14000)\n",
    "    t = l[i].sample(n=n,replace=False)\n",
    "    final_data = pd.concat([final_data,t])"
   ]
  },
  {
   "cell_type": "code",
   "execution_count": 18,
   "metadata": {
    "execution": {
     "iopub.execute_input": "2023-04-20T00:12:50.692084Z",
     "iopub.status.busy": "2023-04-20T00:12:50.691738Z",
     "iopub.status.idle": "2023-04-20T00:12:50.751789Z",
     "shell.execute_reply": "2023-04-20T00:12:50.751069Z",
     "shell.execute_reply.started": "2023-04-20T00:12:50.692016Z"
    }
   },
   "outputs": [],
   "source": [
    "from sklearn.utils import shuffle\n",
    "final_data = shuffle(final_data)\n",
    "dataset = final_data.reset_index(drop=True)"
   ]
  },
  {
   "cell_type": "code",
   "execution_count": 19,
   "metadata": {
    "execution": {
     "iopub.execute_input": "2023-04-20T00:12:50.753405Z",
     "iopub.status.busy": "2023-04-20T00:12:50.753069Z",
     "iopub.status.idle": "2023-04-20T00:12:50.759575Z",
     "shell.execute_reply": "2023-04-20T00:12:50.758734Z",
     "shell.execute_reply.started": "2023-04-20T00:12:50.753340Z"
    }
   },
   "outputs": [
    {
     "data": {
      "text/plain": [
       "(207565, 2)"
      ]
     },
     "execution_count": 19,
     "metadata": {},
     "output_type": "execute_result"
    }
   ],
   "source": [
    "dataset.shape"
   ]
  },
  {
   "cell_type": "markdown",
   "metadata": {},
   "source": [
    "### Visualizations"
   ]
  },
  {
   "cell_type": "code",
   "execution_count": 20,
   "metadata": {
    "execution": {
     "iopub.execute_input": "2023-04-20T00:12:50.761406Z",
     "iopub.status.busy": "2023-04-20T00:12:50.761068Z",
     "iopub.status.idle": "2023-04-20T00:13:05.191607Z",
     "shell.execute_reply": "2023-04-20T00:13:05.190476Z",
     "shell.execute_reply.started": "2023-04-20T00:12:50.761340Z"
    }
   },
   "outputs": [
    {
     "data": {
      "image/png": "[encoded data removed]",
      "text/plain": [
       "<Figure size 432x288 with 1 Axes>"
      ]
     },
     "metadata": {},
     "output_type": "display_data"
    }
   ],
   "source": [
    "from wordcloud import WordCloud\n",
    "import numpy as np\n",
    "import matplotlib.pyplot as plt\n",
    "import seaborn as sns\n",
    "wc = WordCloud(width=600,height=300,random_state=42).generate(' '.join(dataset.sentence))\n",
    "plt.imshow(wc);"
   ]
  },
  {
   "cell_type": "code",
   "execution_count": 21,
   "metadata": {
    "execution": {
     "iopub.execute_input": "2023-04-20T00:13:05.193239Z",
     "iopub.status.busy": "2023-04-20T00:13:05.192906Z",
     "iopub.status.idle": "2023-04-20T00:13:11.327629Z",
     "shell.execute_reply": "2023-04-20T00:13:11.326666Z",
     "shell.execute_reply.started": "2023-04-20T00:13:05.193184Z"
    }
   },
   "outputs": [
    {
     "data": {
      "text/plain": [
       "<matplotlib.axes._subplots.AxesSubplot at 0x731f98bb72b0>"
      ]
     },
     "execution_count": 21,
     "metadata": {},
     "output_type": "execute_result"
    },
    {
     "data": {
      "image/png": "[encoded data removed]",
      "text/plain": [
       "<Figure size 7200x2880 with 1 Axes>"
      ]
     },
     "metadata": {},
     "output_type": "display_data"
    }
   ],
   "source": [
    "import seaborn as sns\n",
    "import matplotlib.pyplot as plt\n",
    "\n",
    "sns.set(font_scale=30)\n",
    "sns.set(rc={'figure.figsize':(100,40)})\n",
    "sns.set(font_scale=5)\n",
    "sns.countplot(dataset.language)\n",
    "#plt.tight_layout()"
   ]
  },
  {
   "cell_type": "code",
   "execution_count": 22,
   "metadata": {
    "execution": {
     "iopub.execute_input": "2023-04-20T00:13:11.329555Z",
     "iopub.status.busy": "2023-04-20T00:13:11.329016Z",
     "iopub.status.idle": "2023-04-20T00:13:12.224435Z",
     "shell.execute_reply": "2023-04-20T00:13:12.223441Z",
     "shell.execute_reply.started": "2023-04-20T00:13:11.329494Z"
    }
   },
   "outputs": [
    {
     "data": {
      "text/plain": [
       "{'whiskers': [<matplotlib.lines.Line2D at 0x731f5554fa58>,\n",
       "  <matplotlib.lines.Line2D at 0x731f5554f240>],\n",
       " 'caps': [<matplotlib.lines.Line2D at 0x731f56b8ad68>,\n",
       "  <matplotlib.lines.Line2D at 0x731f56b8a8d0>],\n",
       " 'boxes': [<matplotlib.lines.Line2D at 0x731f5554fdd8>],\n",
       " 'medians': [<matplotlib.lines.Line2D at 0x731f56b8a3c8>],\n",
       " 'fliers': [<matplotlib.lines.Line2D at 0x731f571aedd8>],\n",
       " 'means': []}"
      ]
     },
     "execution_count": 22,
     "metadata": {},
     "output_type": "execute_result"
    },
    {
     "data": {
      "image/png": "[encoded data removed]",
      "text/plain": [
       "<Figure size 720x360 with 1 Axes>"
      ]
     },
     "metadata": {},
     "output_type": "display_data"
    }
   ],
   "source": [
    "sizes = []\n",
    "for lang in dataset['language'].unique():\n",
    "    temp = dataset[dataset['language']== lang]\n",
    "    sizes.append(temp.shape[0])\n",
    "\n",
    "sns.set(font_scale=30)\n",
    "sns.set(rc={'figure.figsize':(10,5)})\n",
    "plt.boxplot(sizes)"
   ]
  },
  {
   "cell_type": "markdown",
   "metadata": {},
   "source": [
    "### Saving dataset"
   ]
  },
  {
   "cell_type": "code",
   "execution_count": 23,
   "metadata": {
    "execution": {
     "iopub.execute_input": "2023-04-20T00:13:12.226839Z",
     "iopub.status.busy": "2023-04-20T00:13:12.226160Z",
     "iopub.status.idle": "2023-04-20T00:13:13.078802Z",
     "shell.execute_reply": "2023-04-20T00:13:13.077953Z",
     "shell.execute_reply.started": "2023-04-20T00:13:12.226773Z"
    }
   },
   "outputs": [],
   "source": [
    "dataset.to_csv('/kaggle/working/final_data.csv')"
   ]
  },
  {
   "cell_type": "code",
   "execution_count": 24,
   "metadata": {
    "execution": {
     "iopub.execute_input": "2023-04-20T00:13:13.080440Z",
     "iopub.status.busy": "2023-04-20T00:13:13.079977Z",
     "iopub.status.idle": "2023-04-20T00:13:13.086063Z",
     "shell.execute_reply": "2023-04-20T00:13:13.084772Z",
     "shell.execute_reply.started": "2023-04-20T00:13:13.080375Z"
    }
   },
   "outputs": [
    {
     "data": {
      "text/plain": [
       "(207565, 2)"
      ]
     },
     "execution_count": 24,
     "metadata": {},
     "output_type": "execute_result"
    }
   ],
   "source": [
    "dataset.shape"
   ]
  },
  {
   "cell_type": "markdown",
   "metadata": {},
   "source": [
    "### Pre-processing"
   ]
  },
  {
   "cell_type": "code",
   "execution_count": 25,
   "metadata": {
    "execution": {
     "iopub.execute_input": "2023-04-20T00:13:13.087599Z",
     "iopub.status.busy": "2023-04-20T00:13:13.087343Z",
     "iopub.status.idle": "2023-04-20T00:13:13.097182Z",
     "shell.execute_reply": "2023-04-20T00:13:13.096213Z",
     "shell.execute_reply.started": "2023-04-20T00:13:13.087555Z"
    }
   },
   "outputs": [],
   "source": [
    "# def text_preprocess(data,col):\n",
    "#     data[col] = data[col].apply(func=clean_html)\n",
    "#     #data[col] = data[col].apply(func=remove_)\n",
    "#     data[col] = data[col].apply(func=removeStopWords)\n",
    "#     data[col] = data[col].apply(func=remove_digits)\n",
    "#     data[col] = data[col].apply(func=remove_links)\n",
    "#     #data[col] = data[col].apply(func=remove_special_characters)\n",
    "#     data[col] = data[col].apply(func=punct)\n",
    "#     #data[col] = data[col].apply(func=non_ascii)\n",
    "#     data[col] = data[col].apply(func=email_address)\n",
    "#     data[col] = data[col].apply(func=lower)\n",
    "#     return data"
   ]
  },
  {
   "cell_type": "code",
   "execution_count": 26,
   "metadata": {
    "execution": {
     "iopub.execute_input": "2023-04-20T00:13:13.099087Z",
     "iopub.status.busy": "2023-04-20T00:13:13.098680Z",
     "iopub.status.idle": "2023-04-20T00:13:13.110169Z",
     "shell.execute_reply": "2023-04-20T00:13:13.109331Z",
     "shell.execute_reply.started": "2023-04-20T00:13:13.099002Z"
    }
   },
   "outputs": [],
   "source": [
    "# dataset = text_preprocess(dataset,'sentence')\n",
    "# dataset.head()"
   ]
  },
  {
   "cell_type": "markdown",
   "metadata": {
    "_uuid": "ce50c9ca32bd535d27ece1e023c066324f9611a9",
    "colab_type": "text",
    "id": "0uVrqIEb4KTi"
   },
   "source": [
    "### Seperate features and target"
   ]
  },
  {
   "cell_type": "code",
   "execution_count": 27,
   "metadata": {
    "_uuid": "a44f27b902575b3cc23be64d956d46b511ef98c7",
    "colab": {},
    "colab_type": "code",
    "execution": {
     "iopub.execute_input": "2023-04-20T00:13:13.111744Z",
     "iopub.status.busy": "2023-04-20T00:13:13.111281Z",
     "iopub.status.idle": "2023-04-20T00:13:13.188582Z",
     "shell.execute_reply": "2023-04-20T00:13:13.187746Z",
     "shell.execute_reply.started": "2023-04-20T00:13:13.111667Z"
    },
    "id": "7eFy2Sf_4KTl",
    "scrolled": true
   },
   "outputs": [],
   "source": [
    "#split the data into train and test set\n",
    "from sklearn.model_selection import train_test_split\n",
    "text = dataset.sentence\n",
    "language = dataset.language\n",
    "train_features, test_features, train_labels, test_labels = train_test_split(text, language, test_size=0.20, random_state=5)"
   ]
  },
  {
   "cell_type": "code",
   "execution_count": 28,
   "metadata": {
    "execution": {
     "iopub.execute_input": "2023-04-20T00:13:13.190527Z",
     "iopub.status.busy": "2023-04-20T00:13:13.190171Z",
     "iopub.status.idle": "2023-04-20T00:13:13.196303Z",
     "shell.execute_reply": "2023-04-20T00:13:13.195448Z",
     "shell.execute_reply.started": "2023-04-20T00:13:13.190462Z"
    }
   },
   "outputs": [
    {
     "name": "stdout",
     "output_type": "stream",
     "text": [
      "lenght of training data =  166052\n",
      "lenght of test data =  41513\n"
     ]
    }
   ],
   "source": [
    "print('lenght of training data = ',len(train_features))\n",
    "print('lenght of test data = ', len(test_features))"
   ]
  },
  {
   "cell_type": "markdown",
   "metadata": {
    "_uuid": "c0a11dc77acd2b8b1d2867b93a78b876706b44c3",
    "colab_type": "text",
    "id": "ce2SPCBw4KTr"
   },
   "source": [
    "### Feature Extraction\n",
    "The features were extracted using sklearn CountVectorizer"
   ]
  },
  {
   "cell_type": "code",
   "execution_count": 29,
   "metadata": {
    "execution": {
     "iopub.execute_input": "2023-04-20T00:13:13.198060Z",
     "iopub.status.busy": "2023-04-20T00:13:13.197716Z",
     "iopub.status.idle": "2023-04-20T00:13:13.211844Z",
     "shell.execute_reply": "2023-04-20T00:13:13.210970Z",
     "shell.execute_reply.started": "2023-04-20T00:13:13.197991Z"
    }
   },
   "outputs": [],
   "source": [
    "from sklearn.feature_extraction.text import*\n",
    "from sklearn import preprocessing\n",
    "from sklearn.preprocessing import LabelEncoder"
   ]
  },
  {
   "cell_type": "code",
   "execution_count": 30,
   "metadata": {
    "_uuid": "d36ba964a53f9ea583f3d916c7075daffa64ee22",
    "colab": {
     "base_uri": "https://localhost:8080/",
     "height": 34
    },
    "colab_type": "code",
    "execution": {
     "iopub.execute_input": "2023-04-20T00:13:13.213284Z",
     "iopub.status.busy": "2023-04-20T00:13:13.212984Z",
     "iopub.status.idle": "2023-04-20T00:13:16.753928Z",
     "shell.execute_reply": "2023-04-20T00:13:16.752863Z",
     "shell.execute_reply.started": "2023-04-20T00:13:13.213224Z"
    },
    "id": "CxD8XlDf4KTt",
    "outputId": "7c8bc67d-d991-4ff9-97a8-e6f6b3b3cbca"
   },
   "outputs": [
    {
     "data": {
      "text/plain": [
       "(166052, 1000)"
      ]
     },
     "execution_count": 30,
     "metadata": {},
     "output_type": "execute_result"
    }
   ],
   "source": [
    "#uni gram\n",
    "uni_vector =   CountVectorizer( strip_accents='unicode', analyzer='word', token_pattern=r'\\w{1,}', \n",
    "                          stop_words=None, ngram_range=(1,1), max_features=1000)\n",
    "bag_of_words_uni = uni_vector.fit_transform(train_features)\n",
    "bag_of_words_uni.shape"
   ]
  },
  {
   "cell_type": "code",
   "execution_count": 31,
   "metadata": {
    "_uuid": "27c9658160b1859e219d38755147093e38df81b9",
    "colab": {},
    "colab_type": "code",
    "execution": {
     "iopub.execute_input": "2023-04-20T00:13:16.755790Z",
     "iopub.status.busy": "2023-04-20T00:13:16.755470Z",
     "iopub.status.idle": "2023-04-20T00:13:23.392233Z",
     "shell.execute_reply": "2023-04-20T00:13:23.391184Z",
     "shell.execute_reply.started": "2023-04-20T00:13:16.755721Z"
    },
    "id": "ti6UqYTK4KT4"
   },
   "outputs": [],
   "source": [
    "#bigram\n",
    "bi_vector =   CountVectorizer( strip_accents='unicode', analyzer='word', token_pattern=r'\\w{1,}', \n",
    "                          stop_words=None, ngram_range=(2,2), max_features=1000)\n",
    "bag_of_words_bi = bi_vector.fit_transform(train_features)"
   ]
  },
  {
   "cell_type": "code",
   "execution_count": 32,
   "metadata": {
    "_uuid": "9123141fad8c66d3ba7320fe06d41357c1ccda05",
    "colab": {},
    "colab_type": "code",
    "execution": {
     "iopub.execute_input": "2023-04-20T00:13:23.393843Z",
     "iopub.status.busy": "2023-04-20T00:13:23.393531Z",
     "iopub.status.idle": "2023-04-20T00:13:30.974210Z",
     "shell.execute_reply": "2023-04-20T00:13:30.973316Z",
     "shell.execute_reply.started": "2023-04-20T00:13:23.393785Z"
    },
    "id": "-752_HLO4KT9"
   },
   "outputs": [],
   "source": [
    "#trigram\n",
    "tri_vector =   CountVectorizer( strip_accents='unicode', analyzer='word', token_pattern=r'\\w{1,}', \n",
    "                          stop_words=None, ngram_range=(3,3), max_features=1000)\n",
    "bag_of_words_tri = tri_vector.fit_transform(train_features)"
   ]
  },
  {
   "cell_type": "code",
   "execution_count": 33,
   "metadata": {
    "execution": {
     "iopub.execute_input": "2023-04-20T00:13:30.975937Z",
     "iopub.status.busy": "2023-04-20T00:13:30.975627Z",
     "iopub.status.idle": "2023-04-20T00:13:38.966679Z",
     "shell.execute_reply": "2023-04-20T00:13:38.965645Z",
     "shell.execute_reply.started": "2023-04-20T00:13:30.975881Z"
    }
   },
   "outputs": [],
   "source": [
    "#3chargram\n",
    "char3_vector =   CountVectorizer( strip_accents='unicode', analyzer='char', token_pattern=r'\\w{1,}', \n",
    "                          stop_words=None, ngram_range=(3,3), max_features=1000)\n",
    "bag_of_words_char3 = char3_vector.fit_transform(train_features)"
   ]
  },
  {
   "cell_type": "code",
   "execution_count": 34,
   "metadata": {
    "_uuid": "62ec29a2c05fb871ddb24e2f429d02e405a8e0c8",
    "colab": {},
    "colab_type": "code",
    "execution": {
     "iopub.execute_input": "2023-04-20T00:13:38.968515Z",
     "iopub.status.busy": "2023-04-20T00:13:38.968220Z",
     "iopub.status.idle": "2023-04-20T00:13:49.052849Z",
     "shell.execute_reply": "2023-04-20T00:13:49.051781Z",
     "shell.execute_reply.started": "2023-04-20T00:13:38.968460Z"
    },
    "id": "jUxz1_dR4KUR"
   },
   "outputs": [],
   "source": [
    "#4chargram\n",
    "char4_vector =   CountVectorizer( strip_accents='unicode', analyzer='char', token_pattern=r'\\w{1,}', \n",
    "                          stop_words=None, ngram_range=(4,4), max_features=1000)\n",
    "bag_of_words_char4 = char4_vector.fit_transform(train_features)"
   ]
  },
  {
   "cell_type": "code",
   "execution_count": 35,
   "metadata": {
    "_uuid": "f734c7e09d92445c641214489c4014295753ddae",
    "colab": {},
    "colab_type": "code",
    "execution": {
     "iopub.execute_input": "2023-04-20T00:13:49.054523Z",
     "iopub.status.busy": "2023-04-20T00:13:49.054221Z",
     "iopub.status.idle": "2023-04-20T00:13:49.059008Z",
     "shell.execute_reply": "2023-04-20T00:13:49.057997Z",
     "shell.execute_reply.started": "2023-04-20T00:13:49.054466Z"
    },
    "id": "iDiGfFwC4KUe"
   },
   "outputs": [],
   "source": [
    "#5chargram\n",
    "# char5_vector =   CountVectorizer( strip_accents='unicode', analyzer='char', token_pattern=r'\\w{1,}', \n",
    "#                           stop_words=None, ngram_range=(5,5), max_features=1000)\n",
    "# bag_of_words_char5 = char5_vector.fit_transform(train_features)"
   ]
  },
  {
   "cell_type": "code",
   "execution_count": 36,
   "metadata": {
    "_uuid": "ce6b23753c6692940b70401e032087ec95e53430",
    "colab": {},
    "colab_type": "code",
    "execution": {
     "iopub.execute_input": "2023-04-20T00:13:49.060828Z",
     "iopub.status.busy": "2023-04-20T00:13:49.060551Z",
     "iopub.status.idle": "2023-04-20T00:13:49.070929Z",
     "shell.execute_reply": "2023-04-20T00:13:49.070039Z",
     "shell.execute_reply.started": "2023-04-20T00:13:49.060774Z"
    },
    "id": "P3z8-5Qm4KUl"
   },
   "outputs": [],
   "source": [
    "#6chargram\n",
    "# char6_vector =   CountVectorizer( strip_accents='unicode', analyzer='char', token_pattern=r'\\w{1,}', \n",
    "#                           stop_words=None, ngram_range=(6,6), max_features=1000)\n",
    "# bag_of_words_char6 = char6_vector.fit_transform(train_features)"
   ]
  },
  {
   "cell_type": "code",
   "execution_count": 37,
   "metadata": {
    "_uuid": "33f281f7b40fbdeefc360efe820d277834eb6323",
    "colab": {},
    "colab_type": "code",
    "execution": {
     "iopub.execute_input": "2023-04-20T00:13:49.072319Z",
     "iopub.status.busy": "2023-04-20T00:13:49.072090Z",
     "iopub.status.idle": "2023-04-20T00:13:49.085180Z",
     "shell.execute_reply": "2023-04-20T00:13:49.084151Z",
     "shell.execute_reply.started": "2023-04-20T00:13:49.072280Z"
    },
    "id": "LuZAalZ84KUq"
   },
   "outputs": [],
   "source": [
    "#7chargram\n",
    "# char7_vector =   CountVectorizer( strip_accents='unicode', analyzer='char', token_pattern=r'\\w{1,}', \n",
    "#                           stop_words=None, ngram_range=(7,7), max_features=1000)\n",
    "# bag_of_words_char7 = char7_vector.fit_transform(train_features)"
   ]
  },
  {
   "cell_type": "code",
   "execution_count": 38,
   "metadata": {
    "_uuid": "a4c81df69adc400cfe6a9c415cc2358b055b2974",
    "colab": {},
    "colab_type": "code",
    "execution": {
     "iopub.execute_input": "2023-04-20T00:13:49.087100Z",
     "iopub.status.busy": "2023-04-20T00:13:49.086792Z",
     "iopub.status.idle": "2023-04-20T00:13:49.095957Z",
     "shell.execute_reply": "2023-04-20T00:13:49.095167Z",
     "shell.execute_reply.started": "2023-04-20T00:13:49.087041Z"
    },
    "id": "zGSr0-Vw4KUv"
   },
   "outputs": [],
   "source": [
    "#8chargram\n",
    "# char8_vector =   CountVectorizer( strip_accents='unicode', analyzer='char', token_pattern=r'\\w{1,}', \n",
    "#                           stop_words=None, ngram_range=(1,1), max_features=1000)\n",
    "# bag_of_words_char8 = char8_vector.fit_transform(train_features)"
   ]
  },
  {
   "cell_type": "code",
   "execution_count": 39,
   "metadata": {
    "_uuid": "c6676e699c4d7800119933842600f2c9b78940bd",
    "colab": {},
    "colab_type": "code",
    "execution": {
     "iopub.execute_input": "2023-04-20T00:13:49.098344Z",
     "iopub.status.busy": "2023-04-20T00:13:49.097849Z",
     "iopub.status.idle": "2023-04-20T00:13:49.108338Z",
     "shell.execute_reply": "2023-04-20T00:13:49.107180Z",
     "shell.execute_reply.started": "2023-04-20T00:13:49.098137Z"
    },
    "id": "B9zbmEnt4KU1"
   },
   "outputs": [],
   "source": [
    "#9chargram\n",
    "# char9_vector =   CountVectorizer( strip_accents='unicode', analyzer='char', token_pattern=r'\\w{1,}', \n",
    "#                           stop_words=None, ngram_range=(9,9), max_features=1000)\n",
    "# bag_of_words_char9 = char9_vector.fit_transform(train_features)"
   ]
  },
  {
   "cell_type": "code",
   "execution_count": 40,
   "metadata": {
    "_uuid": "adf2d8af77b648c2ad3a8514d521cb5442826597",
    "colab": {},
    "colab_type": "code",
    "execution": {
     "iopub.execute_input": "2023-04-20T00:13:49.110241Z",
     "iopub.status.busy": "2023-04-20T00:13:49.109915Z",
     "iopub.status.idle": "2023-04-20T00:13:49.120746Z",
     "shell.execute_reply": "2023-04-20T00:13:49.119859Z",
     "shell.execute_reply.started": "2023-04-20T00:13:49.110178Z"
    },
    "id": "zqI8Wm5D4KU6"
   },
   "outputs": [],
   "source": [
    "#10chargram\n",
    "# char10_vector =   CountVectorizer( strip_accents='unicode', analyzer='char', token_pattern=r'\\w{1,}', \n",
    "#                           stop_words=None, ngram_range=(10,10), max_features=1000)\n",
    "# bag_of_words_char10 = char10_vector.fit_transform(train_features)"
   ]
  },
  {
   "cell_type": "code",
   "execution_count": 41,
   "metadata": {
    "_uuid": "99b4df96ce59c0507482126f0926c9cb0fe23627",
    "colab": {},
    "colab_type": "code",
    "execution": {
     "iopub.execute_input": "2023-04-20T00:13:49.122044Z",
     "iopub.status.busy": "2023-04-20T00:13:49.121755Z",
     "iopub.status.idle": "2023-04-20T00:13:49.141838Z",
     "shell.execute_reply": "2023-04-20T00:13:49.141006Z",
     "shell.execute_reply.started": "2023-04-20T00:13:49.121988Z"
    },
    "id": "1OD3u-oM4KVA"
   },
   "outputs": [],
   "source": [
    "# Get feature names\n",
    "uni_feature_names = uni_vector.get_feature_names()\n",
    "bi_feature_names = bi_vector.get_feature_names()\n",
    "tri_feature_names = tri_vector.get_feature_names()\n",
    "char3_feature_names = char3_vector.get_feature_names()\n",
    "char4_feature_names = char4_vector.get_feature_names()\n",
    "# char5_feature_names = char5_vector.get_feature_names()\n",
    "# char6_feature_names = char6_vector.get_feature_names()\n",
    "# char7_feature_names = char7_vector.get_feature_names()\n",
    "# char8_feature_names = char8_vector.get_feature_names()\n",
    "# char9_feature_names = char9_vector.get_feature_names()\n",
    "# char10_feature_names = char10_vector.get_feature_names()"
   ]
  },
  {
   "cell_type": "code",
   "execution_count": 42,
   "metadata": {
    "_uuid": "f239149560ddd526d3eabf27d01bf54ac992896c",
    "colab": {
     "base_uri": "https://localhost:8080/",
     "height": 233
    },
    "colab_type": "code",
    "execution": {
     "iopub.execute_input": "2023-04-20T00:13:49.143343Z",
     "iopub.status.busy": "2023-04-20T00:13:49.142913Z",
     "iopub.status.idle": "2023-04-20T00:13:49.841541Z",
     "shell.execute_reply": "2023-04-20T00:13:49.840599Z",
     "shell.execute_reply.started": "2023-04-20T00:13:49.143287Z"
    },
    "id": "E4KFMaSU4KVP",
    "outputId": "9b35a796-1557-4432-9f32-71939b82688e"
   },
   "outputs": [
    {
     "data": {
      "text/html": [
       "<div>\n",
       "<style scoped>\n",
       "    .dataframe tbody tr th:only-of-type {\n",
       "        vertical-align: middle;\n",
       "    }\n",
       "\n",
       "    .dataframe tbody tr th {\n",
       "        vertical-align: top;\n",
       "    }\n",
       "\n",
       "    .dataframe thead th {\n",
       "        text-align: right;\n",
       "    }\n",
       "</style>\n",
       "<table border=\"1\" class=\"dataframe\">\n",
       "  <thead>\n",
       "    <tr style=\"text-align: right;\">\n",
       "      <th></th>\n",
       "      <th>1</th>\n",
       "      <th>2</th>\n",
       "      <th>a</th>\n",
       "      <th>aan</th>\n",
       "      <th>ab</th>\n",
       "      <th>aber</th>\n",
       "      <th>about</th>\n",
       "      <th>aceasta</th>\n",
       "      <th>acest</th>\n",
       "      <th>ad</th>\n",
       "      <th>ada</th>\n",
       "      <th>adalah</th>\n",
       "      <th>af</th>\n",
       "      <th>ai</th>\n",
       "      <th>aici</th>\n",
       "      <th>ainda</th>\n",
       "      <th>akan</th>\n",
       "      <th>aku</th>\n",
       "      <th>al</th>\n",
       "      <th>aldrig</th>\n",
       "      <th>algo</th>\n",
       "      <th>all</th>\n",
       "      <th>alla</th>\n",
       "      <th>alle</th>\n",
       "      <th>alles</th>\n",
       "      <th>als</th>\n",
       "      <th>am</th>\n",
       "      <th>ama</th>\n",
       "      <th>an</th>\n",
       "      <th>anak</th>\n",
       "      <th>and</th>\n",
       "      <th>anda</th>\n",
       "      <th>andare</th>\n",
       "      <th>andate</th>\n",
       "      <th>andiamo</th>\n",
       "      <th>ani</th>\n",
       "      <th>anno</th>\n",
       "      <th>anos</th>\n",
       "      <th>ao</th>\n",
       "      <th>apa</th>\n",
       "      <th>...</th>\n",
       "      <th>य</th>\n",
       "      <th>यक</th>\n",
       "      <th>यम</th>\n",
       "      <th>यह</th>\n",
       "      <th>र</th>\n",
       "      <th>रक</th>\n",
       "      <th>रण</th>\n",
       "      <th>रत</th>\n",
       "      <th>रम</th>\n",
       "      <th>रय</th>\n",
       "      <th>रव</th>\n",
       "      <th>रस</th>\n",
       "      <th>रह</th>\n",
       "      <th>रहत</th>\n",
       "      <th>ल</th>\n",
       "      <th>लग</th>\n",
       "      <th>लगत</th>\n",
       "      <th>लत</th>\n",
       "      <th>लन</th>\n",
       "      <th>व</th>\n",
       "      <th>वर</th>\n",
       "      <th>वल</th>\n",
       "      <th>वह</th>\n",
       "      <th>श</th>\n",
       "      <th>शन</th>\n",
       "      <th>ष</th>\n",
       "      <th>षण</th>\n",
       "      <th>स</th>\n",
       "      <th>सक</th>\n",
       "      <th>सकत</th>\n",
       "      <th>सन</th>\n",
       "      <th>सबस</th>\n",
       "      <th>सभ</th>\n",
       "      <th>सम</th>\n",
       "      <th>समय</th>\n",
       "      <th>सर</th>\n",
       "      <th>ह</th>\n",
       "      <th>हत</th>\n",
       "      <th>हम</th>\n",
       "      <th>हर</th>\n",
       "    </tr>\n",
       "  </thead>\n",
       "  <tbody>\n",
       "    <tr>\n",
       "      <th>0</th>\n",
       "      <td>0</td>\n",
       "      <td>0</td>\n",
       "      <td>0</td>\n",
       "      <td>0</td>\n",
       "      <td>0</td>\n",
       "      <td>0</td>\n",
       "      <td>0</td>\n",
       "      <td>0</td>\n",
       "      <td>0</td>\n",
       "      <td>1</td>\n",
       "      <td>0</td>\n",
       "      <td>0</td>\n",
       "      <td>0</td>\n",
       "      <td>0</td>\n",
       "      <td>0</td>\n",
       "      <td>0</td>\n",
       "      <td>0</td>\n",
       "      <td>0</td>\n",
       "      <td>0</td>\n",
       "      <td>0</td>\n",
       "      <td>0</td>\n",
       "      <td>0</td>\n",
       "      <td>0</td>\n",
       "      <td>0</td>\n",
       "      <td>0</td>\n",
       "      <td>0</td>\n",
       "      <td>0</td>\n",
       "      <td>0</td>\n",
       "      <td>0</td>\n",
       "      <td>0</td>\n",
       "      <td>0</td>\n",
       "      <td>0</td>\n",
       "      <td>0</td>\n",
       "      <td>0</td>\n",
       "      <td>0</td>\n",
       "      <td>0</td>\n",
       "      <td>0</td>\n",
       "      <td>0</td>\n",
       "      <td>0</td>\n",
       "      <td>0</td>\n",
       "      <td>...</td>\n",
       "      <td>0</td>\n",
       "      <td>0</td>\n",
       "      <td>0</td>\n",
       "      <td>0</td>\n",
       "      <td>0</td>\n",
       "      <td>0</td>\n",
       "      <td>0</td>\n",
       "      <td>0</td>\n",
       "      <td>0</td>\n",
       "      <td>0</td>\n",
       "      <td>0</td>\n",
       "      <td>0</td>\n",
       "      <td>0</td>\n",
       "      <td>0</td>\n",
       "      <td>0</td>\n",
       "      <td>0</td>\n",
       "      <td>0</td>\n",
       "      <td>0</td>\n",
       "      <td>0</td>\n",
       "      <td>0</td>\n",
       "      <td>0</td>\n",
       "      <td>0</td>\n",
       "      <td>0</td>\n",
       "      <td>0</td>\n",
       "      <td>0</td>\n",
       "      <td>0</td>\n",
       "      <td>0</td>\n",
       "      <td>0</td>\n",
       "      <td>0</td>\n",
       "      <td>0</td>\n",
       "      <td>0</td>\n",
       "      <td>0</td>\n",
       "      <td>0</td>\n",
       "      <td>0</td>\n",
       "      <td>0</td>\n",
       "      <td>0</td>\n",
       "      <td>0</td>\n",
       "      <td>0</td>\n",
       "      <td>0</td>\n",
       "      <td>0</td>\n",
       "    </tr>\n",
       "    <tr>\n",
       "      <th>1</th>\n",
       "      <td>0</td>\n",
       "      <td>0</td>\n",
       "      <td>0</td>\n",
       "      <td>0</td>\n",
       "      <td>0</td>\n",
       "      <td>0</td>\n",
       "      <td>0</td>\n",
       "      <td>0</td>\n",
       "      <td>0</td>\n",
       "      <td>0</td>\n",
       "      <td>0</td>\n",
       "      <td>0</td>\n",
       "      <td>0</td>\n",
       "      <td>0</td>\n",
       "      <td>0</td>\n",
       "      <td>0</td>\n",
       "      <td>0</td>\n",
       "      <td>0</td>\n",
       "      <td>0</td>\n",
       "      <td>0</td>\n",
       "      <td>0</td>\n",
       "      <td>0</td>\n",
       "      <td>0</td>\n",
       "      <td>0</td>\n",
       "      <td>0</td>\n",
       "      <td>0</td>\n",
       "      <td>0</td>\n",
       "      <td>0</td>\n",
       "      <td>0</td>\n",
       "      <td>0</td>\n",
       "      <td>0</td>\n",
       "      <td>0</td>\n",
       "      <td>0</td>\n",
       "      <td>0</td>\n",
       "      <td>0</td>\n",
       "      <td>0</td>\n",
       "      <td>0</td>\n",
       "      <td>0</td>\n",
       "      <td>0</td>\n",
       "      <td>1</td>\n",
       "      <td>...</td>\n",
       "      <td>0</td>\n",
       "      <td>0</td>\n",
       "      <td>0</td>\n",
       "      <td>0</td>\n",
       "      <td>0</td>\n",
       "      <td>0</td>\n",
       "      <td>0</td>\n",
       "      <td>0</td>\n",
       "      <td>0</td>\n",
       "      <td>0</td>\n",
       "      <td>0</td>\n",
       "      <td>0</td>\n",
       "      <td>0</td>\n",
       "      <td>0</td>\n",
       "      <td>0</td>\n",
       "      <td>0</td>\n",
       "      <td>0</td>\n",
       "      <td>0</td>\n",
       "      <td>0</td>\n",
       "      <td>0</td>\n",
       "      <td>0</td>\n",
       "      <td>0</td>\n",
       "      <td>0</td>\n",
       "      <td>0</td>\n",
       "      <td>0</td>\n",
       "      <td>0</td>\n",
       "      <td>0</td>\n",
       "      <td>0</td>\n",
       "      <td>0</td>\n",
       "      <td>0</td>\n",
       "      <td>0</td>\n",
       "      <td>0</td>\n",
       "      <td>0</td>\n",
       "      <td>0</td>\n",
       "      <td>0</td>\n",
       "      <td>0</td>\n",
       "      <td>0</td>\n",
       "      <td>0</td>\n",
       "      <td>0</td>\n",
       "      <td>0</td>\n",
       "    </tr>\n",
       "    <tr>\n",
       "      <th>2</th>\n",
       "      <td>0</td>\n",
       "      <td>0</td>\n",
       "      <td>0</td>\n",
       "      <td>0</td>\n",
       "      <td>0</td>\n",
       "      <td>0</td>\n",
       "      <td>0</td>\n",
       "      <td>0</td>\n",
       "      <td>0</td>\n",
       "      <td>0</td>\n",
       "      <td>0</td>\n",
       "      <td>0</td>\n",
       "      <td>0</td>\n",
       "      <td>0</td>\n",
       "      <td>0</td>\n",
       "      <td>0</td>\n",
       "      <td>0</td>\n",
       "      <td>0</td>\n",
       "      <td>0</td>\n",
       "      <td>0</td>\n",
       "      <td>0</td>\n",
       "      <td>0</td>\n",
       "      <td>0</td>\n",
       "      <td>0</td>\n",
       "      <td>0</td>\n",
       "      <td>0</td>\n",
       "      <td>0</td>\n",
       "      <td>0</td>\n",
       "      <td>0</td>\n",
       "      <td>0</td>\n",
       "      <td>0</td>\n",
       "      <td>0</td>\n",
       "      <td>0</td>\n",
       "      <td>0</td>\n",
       "      <td>0</td>\n",
       "      <td>0</td>\n",
       "      <td>0</td>\n",
       "      <td>0</td>\n",
       "      <td>0</td>\n",
       "      <td>0</td>\n",
       "      <td>...</td>\n",
       "      <td>0</td>\n",
       "      <td>0</td>\n",
       "      <td>0</td>\n",
       "      <td>0</td>\n",
       "      <td>0</td>\n",
       "      <td>0</td>\n",
       "      <td>0</td>\n",
       "      <td>0</td>\n",
       "      <td>0</td>\n",
       "      <td>0</td>\n",
       "      <td>0</td>\n",
       "      <td>0</td>\n",
       "      <td>0</td>\n",
       "      <td>0</td>\n",
       "      <td>0</td>\n",
       "      <td>0</td>\n",
       "      <td>0</td>\n",
       "      <td>0</td>\n",
       "      <td>0</td>\n",
       "      <td>0</td>\n",
       "      <td>0</td>\n",
       "      <td>0</td>\n",
       "      <td>0</td>\n",
       "      <td>0</td>\n",
       "      <td>0</td>\n",
       "      <td>0</td>\n",
       "      <td>0</td>\n",
       "      <td>0</td>\n",
       "      <td>0</td>\n",
       "      <td>0</td>\n",
       "      <td>0</td>\n",
       "      <td>0</td>\n",
       "      <td>0</td>\n",
       "      <td>0</td>\n",
       "      <td>0</td>\n",
       "      <td>0</td>\n",
       "      <td>0</td>\n",
       "      <td>0</td>\n",
       "      <td>0</td>\n",
       "      <td>0</td>\n",
       "    </tr>\n",
       "    <tr>\n",
       "      <th>3</th>\n",
       "      <td>0</td>\n",
       "      <td>0</td>\n",
       "      <td>0</td>\n",
       "      <td>0</td>\n",
       "      <td>0</td>\n",
       "      <td>0</td>\n",
       "      <td>0</td>\n",
       "      <td>0</td>\n",
       "      <td>0</td>\n",
       "      <td>0</td>\n",
       "      <td>0</td>\n",
       "      <td>0</td>\n",
       "      <td>0</td>\n",
       "      <td>0</td>\n",
       "      <td>0</td>\n",
       "      <td>0</td>\n",
       "      <td>0</td>\n",
       "      <td>0</td>\n",
       "      <td>0</td>\n",
       "      <td>0</td>\n",
       "      <td>0</td>\n",
       "      <td>0</td>\n",
       "      <td>0</td>\n",
       "      <td>0</td>\n",
       "      <td>0</td>\n",
       "      <td>0</td>\n",
       "      <td>0</td>\n",
       "      <td>0</td>\n",
       "      <td>0</td>\n",
       "      <td>0</td>\n",
       "      <td>0</td>\n",
       "      <td>0</td>\n",
       "      <td>0</td>\n",
       "      <td>0</td>\n",
       "      <td>0</td>\n",
       "      <td>0</td>\n",
       "      <td>0</td>\n",
       "      <td>0</td>\n",
       "      <td>0</td>\n",
       "      <td>0</td>\n",
       "      <td>...</td>\n",
       "      <td>0</td>\n",
       "      <td>0</td>\n",
       "      <td>0</td>\n",
       "      <td>0</td>\n",
       "      <td>0</td>\n",
       "      <td>0</td>\n",
       "      <td>0</td>\n",
       "      <td>0</td>\n",
       "      <td>0</td>\n",
       "      <td>0</td>\n",
       "      <td>0</td>\n",
       "      <td>0</td>\n",
       "      <td>0</td>\n",
       "      <td>0</td>\n",
       "      <td>0</td>\n",
       "      <td>0</td>\n",
       "      <td>0</td>\n",
       "      <td>0</td>\n",
       "      <td>0</td>\n",
       "      <td>0</td>\n",
       "      <td>0</td>\n",
       "      <td>0</td>\n",
       "      <td>0</td>\n",
       "      <td>0</td>\n",
       "      <td>0</td>\n",
       "      <td>0</td>\n",
       "      <td>0</td>\n",
       "      <td>0</td>\n",
       "      <td>0</td>\n",
       "      <td>0</td>\n",
       "      <td>0</td>\n",
       "      <td>0</td>\n",
       "      <td>0</td>\n",
       "      <td>0</td>\n",
       "      <td>0</td>\n",
       "      <td>0</td>\n",
       "      <td>0</td>\n",
       "      <td>0</td>\n",
       "      <td>0</td>\n",
       "      <td>0</td>\n",
       "    </tr>\n",
       "    <tr>\n",
       "      <th>4</th>\n",
       "      <td>0</td>\n",
       "      <td>0</td>\n",
       "      <td>0</td>\n",
       "      <td>0</td>\n",
       "      <td>0</td>\n",
       "      <td>0</td>\n",
       "      <td>0</td>\n",
       "      <td>0</td>\n",
       "      <td>0</td>\n",
       "      <td>0</td>\n",
       "      <td>0</td>\n",
       "      <td>0</td>\n",
       "      <td>0</td>\n",
       "      <td>0</td>\n",
       "      <td>0</td>\n",
       "      <td>0</td>\n",
       "      <td>0</td>\n",
       "      <td>0</td>\n",
       "      <td>0</td>\n",
       "      <td>0</td>\n",
       "      <td>0</td>\n",
       "      <td>0</td>\n",
       "      <td>0</td>\n",
       "      <td>0</td>\n",
       "      <td>0</td>\n",
       "      <td>0</td>\n",
       "      <td>0</td>\n",
       "      <td>0</td>\n",
       "      <td>0</td>\n",
       "      <td>0</td>\n",
       "      <td>0</td>\n",
       "      <td>0</td>\n",
       "      <td>0</td>\n",
       "      <td>0</td>\n",
       "      <td>0</td>\n",
       "      <td>0</td>\n",
       "      <td>0</td>\n",
       "      <td>0</td>\n",
       "      <td>0</td>\n",
       "      <td>0</td>\n",
       "      <td>...</td>\n",
       "      <td>0</td>\n",
       "      <td>0</td>\n",
       "      <td>0</td>\n",
       "      <td>0</td>\n",
       "      <td>0</td>\n",
       "      <td>0</td>\n",
       "      <td>0</td>\n",
       "      <td>0</td>\n",
       "      <td>0</td>\n",
       "      <td>0</td>\n",
       "      <td>0</td>\n",
       "      <td>0</td>\n",
       "      <td>0</td>\n",
       "      <td>0</td>\n",
       "      <td>0</td>\n",
       "      <td>0</td>\n",
       "      <td>0</td>\n",
       "      <td>0</td>\n",
       "      <td>0</td>\n",
       "      <td>0</td>\n",
       "      <td>0</td>\n",
       "      <td>0</td>\n",
       "      <td>0</td>\n",
       "      <td>0</td>\n",
       "      <td>0</td>\n",
       "      <td>0</td>\n",
       "      <td>0</td>\n",
       "      <td>0</td>\n",
       "      <td>0</td>\n",
       "      <td>0</td>\n",
       "      <td>0</td>\n",
       "      <td>0</td>\n",
       "      <td>0</td>\n",
       "      <td>0</td>\n",
       "      <td>0</td>\n",
       "      <td>0</td>\n",
       "      <td>0</td>\n",
       "      <td>0</td>\n",
       "      <td>0</td>\n",
       "      <td>0</td>\n",
       "    </tr>\n",
       "  </tbody>\n",
       "</table>\n",
       "</div>"
      ],
      "text/plain": [
       "   1  2  a  aan  ab  aber  about  aceasta ...  सभ  सम  समय  सर  ह  हत  हम  हर\n",
       "0  0  0  0    0   0     0      0        0 ...   0   0    0   0  0   0   0   0\n",
       "1  0  0  0    0   0     0      0        0 ...   0   0    0   0  0   0   0   0\n",
       "2  0  0  0    0   0     0      0        0 ...   0   0    0   0  0   0   0   0\n",
       "3  0  0  0    0   0     0      0        0 ...   0   0    0   0  0   0   0   0\n",
       "4  0  0  0    0   0     0      0        0 ...   0   0    0   0  0   0   0   0\n",
       "\n",
       "[5 rows x 1000 columns]"
      ]
     },
     "execution_count": 42,
     "metadata": {},
     "output_type": "execute_result"
    }
   ],
   "source": [
    "uni_train_features=pd.DataFrame(bag_of_words_uni.toarray(), columns=uni_feature_names)\n",
    "uni_train_features[:5]"
   ]
  },
  {
   "cell_type": "code",
   "execution_count": 43,
   "metadata": {
    "_uuid": "3a2d5e772bb407d798e5335436f63cb3a4b06ab8",
    "colab": {},
    "colab_type": "code",
    "execution": {
     "iopub.execute_input": "2023-04-20T00:13:49.842854Z",
     "iopub.status.busy": "2023-04-20T00:13:49.842593Z",
     "iopub.status.idle": "2023-04-20T00:13:51.570408Z",
     "shell.execute_reply": "2023-04-20T00:13:51.569332Z",
     "shell.execute_reply.started": "2023-04-20T00:13:49.842809Z"
    },
    "id": "QUWX4A9a4KVf"
   },
   "outputs": [],
   "source": [
    "bi_train_features=pd.DataFrame(bag_of_words_bi.toarray(), columns=bi_feature_names)\n",
    "tri_train_features=pd.DataFrame(bag_of_words_tri.toarray(), columns=tri_feature_names)\n",
    "char3_train_features=pd.DataFrame(bag_of_words_char3.toarray(), columns=char3_feature_names)\n",
    "char4_train_features=pd.DataFrame(bag_of_words_char4.toarray(), columns=char4_feature_names)\n",
    "# char5_train_features=pd.DataFrame(bag_of_words_char5.toarray(), columns=char5_feature_names)\n",
    "# char6_train_features=pd.DataFrame(bag_of_words_char6.toarray(), columns=char6_feature_names)\n",
    "# char7_train_features=pd.DataFrame(bag_of_words_char7.toarray(), columns=char7_feature_names)\n",
    "# char8_train_features=pd.DataFrame(bag_of_words_char8.toarray(), columns=char8_feature_names)\n",
    "# char9_train_features=pd.DataFrame(bag_of_words_char9.toarray(), columns=char9_feature_names)\n",
    "# char10_train_features=pd.DataFrame(bag_of_words_char10.toarray(), columns=char10_feature_names)"
   ]
  },
  {
   "cell_type": "markdown",
   "metadata": {
    "_uuid": "31303ccf1b9924ae8a0f6bf81d975a748f7bdaea",
    "colab_type": "text",
    "id": "4mqHWf6L4KVr"
   },
   "source": [
    "### Applying RandomForestClassifier on train dataset"
   ]
  },
  {
   "cell_type": "code",
   "execution_count": 44,
   "metadata": {
    "_uuid": "23ebd2f0afa20ef04e1ea22d5b205850794b3265",
    "colab": {
     "base_uri": "https://localhost:8080/",
     "height": 391
    },
    "colab_type": "code",
    "execution": {
     "iopub.execute_input": "2023-04-20T00:13:51.572041Z",
     "iopub.status.busy": "2023-04-20T00:13:51.571730Z",
     "iopub.status.idle": "2023-04-20T00:26:55.138216Z",
     "shell.execute_reply": "2023-04-20T00:26:55.136967Z",
     "shell.execute_reply.started": "2023-04-20T00:13:51.571984Z"
    },
    "id": "emGqgcSG4KVt",
    "outputId": "9d2cf655-8be4-4e3b-dd76-ae02f94f569b",
    "scrolled": true
   },
   "outputs": [
    {
     "name": "stdout",
     "output_type": "stream",
     "text": [
      "Done-uni\n",
      "Done-bi\n",
      "Done-tri\n",
      "Done-char3\n",
      "Done-char4\n"
     ]
    }
   ],
   "source": [
    "from sklearn.ensemble import RandomForestClassifier\n",
    "\n",
    "rfc_uni = RandomForestClassifier()                      \n",
    "rfc_uni.fit(uni_train_features, train_labels);\n",
    "print(\"Done-uni\")\n",
    "rfc_bi = RandomForestClassifier()                      \n",
    "rfc_bi.fit(bi_train_features, train_labels);\n",
    "print(\"Done-bi\")\n",
    "rfc_tri = RandomForestClassifier()                      \n",
    "rfc_tri.fit(tri_train_features, train_labels);\n",
    "print(\"Done-tri\")\n",
    "rfc_char3 = RandomForestClassifier()                      \n",
    "rfc_char3.fit(char3_train_features, train_labels);\n",
    "print(\"Done-char3\")\n",
    "rfc_char4 = RandomForestClassifier()                      \n",
    "rfc_char4.fit(char4_train_features, train_labels);\n",
    "print(\"Done-char4\")\n",
    "#rfc_char5 = RandomForestClassifier()                      \n",
    "#rfc_char5.fit(char5_train_features, train_labels);\n",
    "\n",
    "# rfc_char6 = RandomForestClassifier()                      \n",
    "# rfc_char6.fit(char6_train_features, train_labels);\n",
    "\n",
    "# rfc_char7 = RandomForestClassifier()                      \n",
    "# rfc_char7.fit(char7_train_features, train_labels);\n",
    "\n",
    "# rfc_char8 = RandomForestClassifier()                      \n",
    "# rfc_char8.fit(char8_train_features, train_labels);\n",
    "\n",
    "# rfc_char9 = RandomForestClassifier()                      \n",
    "# rfc_char9.fit(char9_train_features, train_labels);\n",
    "\n",
    "# rfc_char10 = RandomForestClassifier()                      \n",
    "# rfc_char10.fit(char10_train_features, train_labels);"
   ]
  },
  {
   "cell_type": "markdown",
   "metadata": {},
   "source": [
    "### Applying NaiveBayes on train dataset"
   ]
  },
  {
   "cell_type": "code",
   "execution_count": 45,
   "metadata": {
    "execution": {
     "iopub.execute_input": "2023-04-20T00:26:55.140180Z",
     "iopub.status.busy": "2023-04-20T00:26:55.139907Z",
     "iopub.status.idle": "2023-04-20T00:27:08.081633Z",
     "shell.execute_reply": "2023-04-20T00:27:08.080552Z",
     "shell.execute_reply.started": "2023-04-20T00:26:55.140133Z"
    }
   },
   "outputs": [
    {
     "name": "stdout",
     "output_type": "stream",
     "text": [
      "Done-uni\n",
      "Done-bi\n",
      "Done-tri\n",
      "Done-char3\n",
      "Done-char4\n"
     ]
    }
   ],
   "source": [
    "from sklearn.naive_bayes import MultinomialNB\n",
    "\n",
    "nb_uni = MultinomialNB()                      \n",
    "nb_uni.fit(uni_train_features, train_labels);\n",
    "print(\"Done-uni\")\n",
    "nb_bi = MultinomialNB()                      \n",
    "nb_bi.fit(bi_train_features, train_labels);\n",
    "print(\"Done-bi\")\n",
    "nb_tri = MultinomialNB()                      \n",
    "nb_tri.fit(tri_train_features, train_labels);\n",
    "print(\"Done-tri\")\n",
    "nb_char3 = MultinomialNB()                    \n",
    "nb_char3.fit(char3_train_features, train_labels);\n",
    "print(\"Done-char3\")\n",
    "nb_char4 = MultinomialNB()                     \n",
    "nb_char4.fit(char4_train_features, train_labels);\n",
    "print(\"Done-char4\")\n",
    "# nb_char5 = MultinomialNB()                    \n",
    "# nb_char5.fit(char5_train_features, train_labels);\n",
    "\n",
    "# nb_char6 = MultinomialNB()                     \n",
    "# nb_char6.fit(char6_train_features, train_labels);\n",
    "\n",
    "# nb_char7 = MultinomialNB()                     \n",
    "# nb_char7.fit(char7_train_features, train_labels);\n",
    "\n",
    "# nb_char8 = MultinomialNB()                     \n",
    "# nb_char8.fit(char8_train_features, train_labels);\n",
    "\n",
    "# nb_char9 = MultinomialNB()                     \n",
    "# nb_char9.fit(char9_train_features, train_labels);\n",
    "\n",
    "# nb_char10 = MultinomialNB()                     \n",
    "# nb_char10.fit(char10_train_features, train_labels);"
   ]
  },
  {
   "cell_type": "markdown",
   "metadata": {},
   "source": [
    "### Applying LinearSVC() on train dataset"
   ]
  },
  {
   "cell_type": "code",
   "execution_count": 46,
   "metadata": {
    "_uuid": "6829917a86f49b9d03149d6c44e7cf98aa9b1bab",
    "colab": {
     "base_uri": "https://localhost:8080/",
     "height": 323
    },
    "colab_type": "code",
    "execution": {
     "iopub.execute_input": "2023-04-20T00:27:08.084332Z",
     "iopub.status.busy": "2023-04-20T00:27:08.083918Z",
     "iopub.status.idle": "2023-04-20T00:34:57.904078Z",
     "shell.execute_reply": "2023-04-20T00:34:57.903220Z",
     "shell.execute_reply.started": "2023-04-20T00:27:08.084259Z"
    },
    "id": "IPEQ_W_C4KVx",
    "outputId": "176a47b6-8474-4865-eb7b-21f9590e7716"
   },
   "outputs": [
    {
     "name": "stderr",
     "output_type": "stream",
     "text": [
      "/opt/conda/lib/python3.6/site-packages/sklearn/svm/base.py:922: ConvergenceWarning: Liblinear failed to converge, increase the number of iterations.\n",
      "  \"the number of iterations.\", ConvergenceWarning)\n"
     ]
    },
    {
     "name": "stdout",
     "output_type": "stream",
     "text": [
      "Done-uni\n",
      "Done-bi\n",
      "Done-tri\n"
     ]
    },
    {
     "name": "stderr",
     "output_type": "stream",
     "text": [
      "/opt/conda/lib/python3.6/site-packages/sklearn/svm/base.py:922: ConvergenceWarning: Liblinear failed to converge, increase the number of iterations.\n",
      "  \"the number of iterations.\", ConvergenceWarning)\n"
     ]
    },
    {
     "name": "stdout",
     "output_type": "stream",
     "text": [
      "Done-char3\n",
      "Done-char4\n"
     ]
    },
    {
     "name": "stderr",
     "output_type": "stream",
     "text": [
      "/opt/conda/lib/python3.6/site-packages/sklearn/svm/base.py:922: ConvergenceWarning: Liblinear failed to converge, increase the number of iterations.\n",
      "  \"the number of iterations.\", ConvergenceWarning)\n"
     ]
    }
   ],
   "source": [
    "from sklearn.svm import LinearSVC\n",
    "\n",
    "lsvc_uni = LinearSVC()                      \n",
    "lsvc_uni.fit(uni_train_features, train_labels);\n",
    "print(\"Done-uni\")\n",
    "lsvc_bi = LinearSVC()                      \n",
    "lsvc_bi.fit(bi_train_features, train_labels);\n",
    "print(\"Done-bi\")\n",
    "lsvc_tri = LinearSVC()                      \n",
    "lsvc_tri.fit(tri_train_features, train_labels);\n",
    "print(\"Done-tri\")\n",
    "lsvc_char3 = LinearSVC()                     \n",
    "lsvc_char3.fit(char3_train_features, train_labels);\n",
    "print(\"Done-char3\")\n",
    "lsvc_char4 = LinearSVC()                     \n",
    "lsvc_char4.fit(char4_train_features, train_labels);\n",
    "print(\"Done-char4\")\n",
    "# lsvc_char5 = LinearSVC()                     \n",
    "# lsvc_char5.fit(char5_train_features, train_labels);\n",
    "\n",
    "# lsvc_char6 = LinearSVC()                     \n",
    "# lsvc_char6.fit(char6_train_features, train_labels);\n",
    "\n",
    "# lsvc_char7 = LinearSVC()                     \n",
    "# lsvc_char7.fit(char7_train_features, train_labels);\n",
    "\n",
    "# lsvc_char8 = LinearSVC()                     \n",
    "# lsvc_char8.fit(char8_train_features, train_labels);\n",
    "\n",
    "# lsvc_char9 = LinearSVC()                     \n",
    "# lsvc_char9.fit(char9_train_features, train_labels);\n",
    "\n",
    "# lsvc_char10 = LinearSVC()                     \n",
    "# lsvc_char10.fit(char10_train_features, train_labels);"
   ]
  },
  {
   "cell_type": "markdown",
   "metadata": {},
   "source": [
    "### Applying LogisticRegression() on train dataset"
   ]
  },
  {
   "cell_type": "code",
   "execution_count": 47,
   "metadata": {
    "_uuid": "1451c3ce176b977a6e215e5ff2a50d42786fad22",
    "colab": {
     "base_uri": "https://localhost:8080/",
     "height": 765
    },
    "colab_type": "code",
    "execution": {
     "iopub.execute_input": "2023-04-20T00:34:57.905911Z",
     "iopub.status.busy": "2023-04-20T00:34:57.905552Z",
     "iopub.status.idle": "2023-04-20T00:40:16.576527Z",
     "shell.execute_reply": "2023-04-20T00:40:16.575234Z",
     "shell.execute_reply.started": "2023-04-20T00:34:57.905841Z"
    },
    "id": "l-nJWlRY5JAI",
    "outputId": "401cba6d-8fe3-429e-e446-4b6c9b9b9b83"
   },
   "outputs": [
    {
     "name": "stdout",
     "output_type": "stream",
     "text": [
      "Done-uni\n",
      "Done-bi\n",
      "Done-tri\n",
      "Done-char3\n",
      "Done-char4\n"
     ]
    }
   ],
   "source": [
    "from sklearn.linear_model import LogisticRegression\n",
    "\n",
    "lr_uni = LogisticRegression()                      \n",
    "lr_uni.fit(uni_train_features, train_labels);\n",
    "print(\"Done-uni\")\n",
    "lr_bi = LogisticRegression()                      \n",
    "lr_bi.fit(bi_train_features, train_labels);\n",
    "print(\"Done-bi\")\n",
    "lr_tri = LogisticRegression()                      \n",
    "lr_tri.fit(tri_train_features, train_labels);\n",
    "print(\"Done-tri\")\n",
    "lr_char3 = LogisticRegression()                     \n",
    "lr_char3.fit(char3_train_features, train_labels);\n",
    "print(\"Done-char3\")\n",
    "lr_char4 = LogisticRegression()                     \n",
    "lr_char4.fit(char4_train_features, train_labels);\n",
    "print(\"Done-char4\")\n",
    "# lr_char5 = LogisticRegression()                     \n",
    "# lr_char5.fit(char5_train_features, train_labels);\n",
    "\n",
    "# lr_char6 = LogisticRegression()                     \n",
    "# lr_char6.fit(char6_train_features, train_labels);\n",
    "\n",
    "# lr_char7 = LogisticRegression()                     \n",
    "# lr_char7.fit(char7_train_features, train_labels);\n",
    "\n",
    "# lr_char8 = LogisticRegression()                     \n",
    "# lr_char8.fit(char8_train_features, train_labels);\n",
    "\n",
    "# lr_char9 = LogisticRegression()                     \n",
    "# lr_char9.fit(char9_train_features, train_labels);\n",
    "\n",
    "# lr_char10 = LogisticRegression()                     \n",
    "# lr_char10.fit(char10_train_features, train_labels);"
   ]
  },
  {
   "cell_type": "markdown",
   "metadata": {
    "_uuid": "bd90241ec78889743d37c224d53b7b0771222122",
    "colab_type": "text",
    "id": "_JeIdsEs4KV6"
   },
   "source": [
    "## Testing"
   ]
  },
  {
   "cell_type": "code",
   "execution_count": 48,
   "metadata": {
    "_uuid": "38b8e42fbb38348b547469aafc87aab4c5b4c17a",
    "colab": {
     "base_uri": "https://localhost:8080/",
     "height": 233
    },
    "colab_type": "code",
    "execution": {
     "iopub.execute_input": "2023-04-20T00:40:16.578553Z",
     "iopub.status.busy": "2023-04-20T00:40:16.578293Z",
     "iopub.status.idle": "2023-04-20T00:40:17.598656Z",
     "shell.execute_reply": "2023-04-20T00:40:17.597684Z",
     "shell.execute_reply.started": "2023-04-20T00:40:16.578507Z"
    },
    "id": "oMtzjdQG4KV-",
    "outputId": "b600eeaa-2051-4b45-aafe-4b1b1ba97332"
   },
   "outputs": [
    {
     "data": {
      "text/html": [
       "<div>\n",
       "<style scoped>\n",
       "    .dataframe tbody tr th:only-of-type {\n",
       "        vertical-align: middle;\n",
       "    }\n",
       "\n",
       "    .dataframe tbody tr th {\n",
       "        vertical-align: top;\n",
       "    }\n",
       "\n",
       "    .dataframe thead th {\n",
       "        text-align: right;\n",
       "    }\n",
       "</style>\n",
       "<table border=\"1\" class=\"dataframe\">\n",
       "  <thead>\n",
       "    <tr style=\"text-align: right;\">\n",
       "      <th></th>\n",
       "      <th>1</th>\n",
       "      <th>2</th>\n",
       "      <th>a</th>\n",
       "      <th>aan</th>\n",
       "      <th>ab</th>\n",
       "      <th>aber</th>\n",
       "      <th>about</th>\n",
       "      <th>aceasta</th>\n",
       "      <th>acest</th>\n",
       "      <th>ad</th>\n",
       "      <th>ada</th>\n",
       "      <th>adalah</th>\n",
       "      <th>af</th>\n",
       "      <th>ai</th>\n",
       "      <th>aici</th>\n",
       "      <th>ainda</th>\n",
       "      <th>akan</th>\n",
       "      <th>aku</th>\n",
       "      <th>al</th>\n",
       "      <th>aldrig</th>\n",
       "      <th>algo</th>\n",
       "      <th>all</th>\n",
       "      <th>alla</th>\n",
       "      <th>alle</th>\n",
       "      <th>alles</th>\n",
       "      <th>als</th>\n",
       "      <th>am</th>\n",
       "      <th>ama</th>\n",
       "      <th>an</th>\n",
       "      <th>anak</th>\n",
       "      <th>and</th>\n",
       "      <th>anda</th>\n",
       "      <th>andare</th>\n",
       "      <th>andate</th>\n",
       "      <th>andiamo</th>\n",
       "      <th>ani</th>\n",
       "      <th>anno</th>\n",
       "      <th>anos</th>\n",
       "      <th>ao</th>\n",
       "      <th>apa</th>\n",
       "      <th>...</th>\n",
       "      <th>य</th>\n",
       "      <th>यक</th>\n",
       "      <th>यम</th>\n",
       "      <th>यह</th>\n",
       "      <th>र</th>\n",
       "      <th>रक</th>\n",
       "      <th>रण</th>\n",
       "      <th>रत</th>\n",
       "      <th>रम</th>\n",
       "      <th>रय</th>\n",
       "      <th>रव</th>\n",
       "      <th>रस</th>\n",
       "      <th>रह</th>\n",
       "      <th>रहत</th>\n",
       "      <th>ल</th>\n",
       "      <th>लग</th>\n",
       "      <th>लगत</th>\n",
       "      <th>लत</th>\n",
       "      <th>लन</th>\n",
       "      <th>व</th>\n",
       "      <th>वर</th>\n",
       "      <th>वल</th>\n",
       "      <th>वह</th>\n",
       "      <th>श</th>\n",
       "      <th>शन</th>\n",
       "      <th>ष</th>\n",
       "      <th>षण</th>\n",
       "      <th>स</th>\n",
       "      <th>सक</th>\n",
       "      <th>सकत</th>\n",
       "      <th>सन</th>\n",
       "      <th>सबस</th>\n",
       "      <th>सभ</th>\n",
       "      <th>सम</th>\n",
       "      <th>समय</th>\n",
       "      <th>सर</th>\n",
       "      <th>ह</th>\n",
       "      <th>हत</th>\n",
       "      <th>हम</th>\n",
       "      <th>हर</th>\n",
       "    </tr>\n",
       "  </thead>\n",
       "  <tbody>\n",
       "    <tr>\n",
       "      <th>0</th>\n",
       "      <td>0</td>\n",
       "      <td>0</td>\n",
       "      <td>0</td>\n",
       "      <td>0</td>\n",
       "      <td>0</td>\n",
       "      <td>0</td>\n",
       "      <td>0</td>\n",
       "      <td>0</td>\n",
       "      <td>0</td>\n",
       "      <td>0</td>\n",
       "      <td>0</td>\n",
       "      <td>0</td>\n",
       "      <td>0</td>\n",
       "      <td>0</td>\n",
       "      <td>0</td>\n",
       "      <td>0</td>\n",
       "      <td>0</td>\n",
       "      <td>0</td>\n",
       "      <td>0</td>\n",
       "      <td>0</td>\n",
       "      <td>0</td>\n",
       "      <td>0</td>\n",
       "      <td>0</td>\n",
       "      <td>0</td>\n",
       "      <td>0</td>\n",
       "      <td>0</td>\n",
       "      <td>0</td>\n",
       "      <td>0</td>\n",
       "      <td>0</td>\n",
       "      <td>0</td>\n",
       "      <td>0</td>\n",
       "      <td>0</td>\n",
       "      <td>0</td>\n",
       "      <td>0</td>\n",
       "      <td>0</td>\n",
       "      <td>0</td>\n",
       "      <td>0</td>\n",
       "      <td>0</td>\n",
       "      <td>0</td>\n",
       "      <td>0</td>\n",
       "      <td>...</td>\n",
       "      <td>0</td>\n",
       "      <td>0</td>\n",
       "      <td>0</td>\n",
       "      <td>0</td>\n",
       "      <td>0</td>\n",
       "      <td>0</td>\n",
       "      <td>0</td>\n",
       "      <td>0</td>\n",
       "      <td>0</td>\n",
       "      <td>0</td>\n",
       "      <td>0</td>\n",
       "      <td>0</td>\n",
       "      <td>0</td>\n",
       "      <td>0</td>\n",
       "      <td>0</td>\n",
       "      <td>0</td>\n",
       "      <td>0</td>\n",
       "      <td>0</td>\n",
       "      <td>0</td>\n",
       "      <td>0</td>\n",
       "      <td>0</td>\n",
       "      <td>0</td>\n",
       "      <td>0</td>\n",
       "      <td>0</td>\n",
       "      <td>0</td>\n",
       "      <td>0</td>\n",
       "      <td>0</td>\n",
       "      <td>0</td>\n",
       "      <td>0</td>\n",
       "      <td>0</td>\n",
       "      <td>0</td>\n",
       "      <td>0</td>\n",
       "      <td>0</td>\n",
       "      <td>0</td>\n",
       "      <td>0</td>\n",
       "      <td>0</td>\n",
       "      <td>0</td>\n",
       "      <td>0</td>\n",
       "      <td>0</td>\n",
       "      <td>0</td>\n",
       "    </tr>\n",
       "    <tr>\n",
       "      <th>1</th>\n",
       "      <td>0</td>\n",
       "      <td>0</td>\n",
       "      <td>0</td>\n",
       "      <td>0</td>\n",
       "      <td>0</td>\n",
       "      <td>0</td>\n",
       "      <td>0</td>\n",
       "      <td>0</td>\n",
       "      <td>0</td>\n",
       "      <td>0</td>\n",
       "      <td>0</td>\n",
       "      <td>0</td>\n",
       "      <td>0</td>\n",
       "      <td>0</td>\n",
       "      <td>0</td>\n",
       "      <td>0</td>\n",
       "      <td>0</td>\n",
       "      <td>0</td>\n",
       "      <td>0</td>\n",
       "      <td>0</td>\n",
       "      <td>0</td>\n",
       "      <td>0</td>\n",
       "      <td>0</td>\n",
       "      <td>0</td>\n",
       "      <td>0</td>\n",
       "      <td>0</td>\n",
       "      <td>0</td>\n",
       "      <td>0</td>\n",
       "      <td>0</td>\n",
       "      <td>0</td>\n",
       "      <td>0</td>\n",
       "      <td>0</td>\n",
       "      <td>0</td>\n",
       "      <td>0</td>\n",
       "      <td>0</td>\n",
       "      <td>0</td>\n",
       "      <td>0</td>\n",
       "      <td>0</td>\n",
       "      <td>0</td>\n",
       "      <td>0</td>\n",
       "      <td>...</td>\n",
       "      <td>0</td>\n",
       "      <td>0</td>\n",
       "      <td>0</td>\n",
       "      <td>0</td>\n",
       "      <td>0</td>\n",
       "      <td>0</td>\n",
       "      <td>0</td>\n",
       "      <td>0</td>\n",
       "      <td>0</td>\n",
       "      <td>0</td>\n",
       "      <td>0</td>\n",
       "      <td>0</td>\n",
       "      <td>0</td>\n",
       "      <td>0</td>\n",
       "      <td>0</td>\n",
       "      <td>0</td>\n",
       "      <td>0</td>\n",
       "      <td>0</td>\n",
       "      <td>0</td>\n",
       "      <td>0</td>\n",
       "      <td>0</td>\n",
       "      <td>0</td>\n",
       "      <td>0</td>\n",
       "      <td>0</td>\n",
       "      <td>0</td>\n",
       "      <td>0</td>\n",
       "      <td>0</td>\n",
       "      <td>0</td>\n",
       "      <td>0</td>\n",
       "      <td>0</td>\n",
       "      <td>0</td>\n",
       "      <td>0</td>\n",
       "      <td>0</td>\n",
       "      <td>0</td>\n",
       "      <td>0</td>\n",
       "      <td>0</td>\n",
       "      <td>0</td>\n",
       "      <td>0</td>\n",
       "      <td>0</td>\n",
       "      <td>0</td>\n",
       "    </tr>\n",
       "    <tr>\n",
       "      <th>2</th>\n",
       "      <td>0</td>\n",
       "      <td>0</td>\n",
       "      <td>0</td>\n",
       "      <td>0</td>\n",
       "      <td>0</td>\n",
       "      <td>0</td>\n",
       "      <td>0</td>\n",
       "      <td>0</td>\n",
       "      <td>0</td>\n",
       "      <td>0</td>\n",
       "      <td>0</td>\n",
       "      <td>0</td>\n",
       "      <td>0</td>\n",
       "      <td>0</td>\n",
       "      <td>0</td>\n",
       "      <td>0</td>\n",
       "      <td>0</td>\n",
       "      <td>0</td>\n",
       "      <td>0</td>\n",
       "      <td>0</td>\n",
       "      <td>0</td>\n",
       "      <td>0</td>\n",
       "      <td>0</td>\n",
       "      <td>0</td>\n",
       "      <td>0</td>\n",
       "      <td>0</td>\n",
       "      <td>0</td>\n",
       "      <td>0</td>\n",
       "      <td>0</td>\n",
       "      <td>0</td>\n",
       "      <td>0</td>\n",
       "      <td>0</td>\n",
       "      <td>0</td>\n",
       "      <td>0</td>\n",
       "      <td>0</td>\n",
       "      <td>0</td>\n",
       "      <td>0</td>\n",
       "      <td>0</td>\n",
       "      <td>0</td>\n",
       "      <td>0</td>\n",
       "      <td>...</td>\n",
       "      <td>0</td>\n",
       "      <td>0</td>\n",
       "      <td>0</td>\n",
       "      <td>0</td>\n",
       "      <td>0</td>\n",
       "      <td>0</td>\n",
       "      <td>0</td>\n",
       "      <td>0</td>\n",
       "      <td>0</td>\n",
       "      <td>0</td>\n",
       "      <td>0</td>\n",
       "      <td>0</td>\n",
       "      <td>0</td>\n",
       "      <td>0</td>\n",
       "      <td>0</td>\n",
       "      <td>0</td>\n",
       "      <td>0</td>\n",
       "      <td>0</td>\n",
       "      <td>0</td>\n",
       "      <td>0</td>\n",
       "      <td>0</td>\n",
       "      <td>0</td>\n",
       "      <td>0</td>\n",
       "      <td>0</td>\n",
       "      <td>0</td>\n",
       "      <td>0</td>\n",
       "      <td>0</td>\n",
       "      <td>0</td>\n",
       "      <td>0</td>\n",
       "      <td>0</td>\n",
       "      <td>0</td>\n",
       "      <td>0</td>\n",
       "      <td>0</td>\n",
       "      <td>0</td>\n",
       "      <td>0</td>\n",
       "      <td>0</td>\n",
       "      <td>0</td>\n",
       "      <td>0</td>\n",
       "      <td>0</td>\n",
       "      <td>0</td>\n",
       "    </tr>\n",
       "    <tr>\n",
       "      <th>3</th>\n",
       "      <td>0</td>\n",
       "      <td>0</td>\n",
       "      <td>0</td>\n",
       "      <td>0</td>\n",
       "      <td>0</td>\n",
       "      <td>0</td>\n",
       "      <td>0</td>\n",
       "      <td>0</td>\n",
       "      <td>0</td>\n",
       "      <td>0</td>\n",
       "      <td>0</td>\n",
       "      <td>0</td>\n",
       "      <td>0</td>\n",
       "      <td>0</td>\n",
       "      <td>0</td>\n",
       "      <td>0</td>\n",
       "      <td>0</td>\n",
       "      <td>0</td>\n",
       "      <td>0</td>\n",
       "      <td>0</td>\n",
       "      <td>0</td>\n",
       "      <td>0</td>\n",
       "      <td>0</td>\n",
       "      <td>0</td>\n",
       "      <td>0</td>\n",
       "      <td>0</td>\n",
       "      <td>0</td>\n",
       "      <td>0</td>\n",
       "      <td>0</td>\n",
       "      <td>0</td>\n",
       "      <td>0</td>\n",
       "      <td>0</td>\n",
       "      <td>0</td>\n",
       "      <td>0</td>\n",
       "      <td>0</td>\n",
       "      <td>0</td>\n",
       "      <td>0</td>\n",
       "      <td>0</td>\n",
       "      <td>0</td>\n",
       "      <td>0</td>\n",
       "      <td>...</td>\n",
       "      <td>0</td>\n",
       "      <td>0</td>\n",
       "      <td>0</td>\n",
       "      <td>0</td>\n",
       "      <td>0</td>\n",
       "      <td>0</td>\n",
       "      <td>0</td>\n",
       "      <td>0</td>\n",
       "      <td>0</td>\n",
       "      <td>0</td>\n",
       "      <td>0</td>\n",
       "      <td>0</td>\n",
       "      <td>0</td>\n",
       "      <td>0</td>\n",
       "      <td>0</td>\n",
       "      <td>0</td>\n",
       "      <td>0</td>\n",
       "      <td>0</td>\n",
       "      <td>0</td>\n",
       "      <td>0</td>\n",
       "      <td>0</td>\n",
       "      <td>0</td>\n",
       "      <td>0</td>\n",
       "      <td>0</td>\n",
       "      <td>0</td>\n",
       "      <td>0</td>\n",
       "      <td>0</td>\n",
       "      <td>0</td>\n",
       "      <td>0</td>\n",
       "      <td>0</td>\n",
       "      <td>0</td>\n",
       "      <td>0</td>\n",
       "      <td>0</td>\n",
       "      <td>0</td>\n",
       "      <td>0</td>\n",
       "      <td>0</td>\n",
       "      <td>0</td>\n",
       "      <td>0</td>\n",
       "      <td>0</td>\n",
       "      <td>0</td>\n",
       "    </tr>\n",
       "    <tr>\n",
       "      <th>4</th>\n",
       "      <td>0</td>\n",
       "      <td>0</td>\n",
       "      <td>0</td>\n",
       "      <td>0</td>\n",
       "      <td>0</td>\n",
       "      <td>0</td>\n",
       "      <td>0</td>\n",
       "      <td>0</td>\n",
       "      <td>0</td>\n",
       "      <td>0</td>\n",
       "      <td>0</td>\n",
       "      <td>1</td>\n",
       "      <td>0</td>\n",
       "      <td>0</td>\n",
       "      <td>0</td>\n",
       "      <td>0</td>\n",
       "      <td>0</td>\n",
       "      <td>0</td>\n",
       "      <td>0</td>\n",
       "      <td>0</td>\n",
       "      <td>0</td>\n",
       "      <td>0</td>\n",
       "      <td>0</td>\n",
       "      <td>0</td>\n",
       "      <td>0</td>\n",
       "      <td>0</td>\n",
       "      <td>0</td>\n",
       "      <td>0</td>\n",
       "      <td>0</td>\n",
       "      <td>0</td>\n",
       "      <td>0</td>\n",
       "      <td>0</td>\n",
       "      <td>0</td>\n",
       "      <td>0</td>\n",
       "      <td>0</td>\n",
       "      <td>0</td>\n",
       "      <td>0</td>\n",
       "      <td>0</td>\n",
       "      <td>0</td>\n",
       "      <td>0</td>\n",
       "      <td>...</td>\n",
       "      <td>0</td>\n",
       "      <td>0</td>\n",
       "      <td>0</td>\n",
       "      <td>0</td>\n",
       "      <td>0</td>\n",
       "      <td>0</td>\n",
       "      <td>0</td>\n",
       "      <td>0</td>\n",
       "      <td>0</td>\n",
       "      <td>0</td>\n",
       "      <td>0</td>\n",
       "      <td>0</td>\n",
       "      <td>0</td>\n",
       "      <td>0</td>\n",
       "      <td>0</td>\n",
       "      <td>0</td>\n",
       "      <td>0</td>\n",
       "      <td>0</td>\n",
       "      <td>0</td>\n",
       "      <td>0</td>\n",
       "      <td>0</td>\n",
       "      <td>0</td>\n",
       "      <td>0</td>\n",
       "      <td>0</td>\n",
       "      <td>0</td>\n",
       "      <td>0</td>\n",
       "      <td>0</td>\n",
       "      <td>0</td>\n",
       "      <td>0</td>\n",
       "      <td>0</td>\n",
       "      <td>0</td>\n",
       "      <td>0</td>\n",
       "      <td>0</td>\n",
       "      <td>0</td>\n",
       "      <td>0</td>\n",
       "      <td>0</td>\n",
       "      <td>0</td>\n",
       "      <td>0</td>\n",
       "      <td>0</td>\n",
       "      <td>0</td>\n",
       "    </tr>\n",
       "  </tbody>\n",
       "</table>\n",
       "</div>"
      ],
      "text/plain": [
       "   1  2  a  aan  ab  aber  about  aceasta ...  सभ  सम  समय  सर  ह  हत  हम  हर\n",
       "0  0  0  0    0   0     0      0        0 ...   0   0    0   0  0   0   0   0\n",
       "1  0  0  0    0   0     0      0        0 ...   0   0    0   0  0   0   0   0\n",
       "2  0  0  0    0   0     0      0        0 ...   0   0    0   0  0   0   0   0\n",
       "3  0  0  0    0   0     0      0        0 ...   0   0    0   0  0   0   0   0\n",
       "4  0  0  0    0   0     0      0        0 ...   0   0    0   0  0   0   0   0\n",
       "\n",
       "[5 rows x 1000 columns]"
      ]
     },
     "execution_count": 48,
     "metadata": {},
     "output_type": "execute_result"
    }
   ],
   "source": [
    "uni_test_features = uni_vector.transform(test_features)\n",
    "uni_test_features=pd.DataFrame(uni_test_features.toarray(), columns=uni_feature_names)\n",
    "uni_test_features[:5]"
   ]
  },
  {
   "cell_type": "code",
   "execution_count": 49,
   "metadata": {
    "_uuid": "96bf9bf93db93c4639fa96757cf7a7522c7e635b",
    "colab": {},
    "colab_type": "code",
    "execution": {
     "iopub.execute_input": "2023-04-20T00:40:17.600833Z",
     "iopub.status.busy": "2023-04-20T00:40:17.600423Z",
     "iopub.status.idle": "2023-04-20T00:40:18.459134Z",
     "shell.execute_reply": "2023-04-20T00:40:18.458219Z",
     "shell.execute_reply.started": "2023-04-20T00:40:17.600758Z"
    },
    "id": "mrKKT7G24KWH"
   },
   "outputs": [],
   "source": [
    "bi_test_features = bi_vector.transform(test_features)\n",
    "bi_test_features=pd.DataFrame(bi_test_features.toarray(), columns=bi_feature_names)"
   ]
  },
  {
   "cell_type": "code",
   "execution_count": 50,
   "metadata": {
    "_uuid": "0c214a2e2547163cdbb23df34b763157df104bdc",
    "colab": {},
    "colab_type": "code",
    "execution": {
     "iopub.execute_input": "2023-04-20T00:40:18.461381Z",
     "iopub.status.busy": "2023-04-20T00:40:18.460976Z",
     "iopub.status.idle": "2023-04-20T00:40:19.274300Z",
     "shell.execute_reply": "2023-04-20T00:40:19.273445Z",
     "shell.execute_reply.started": "2023-04-20T00:40:18.461292Z"
    },
    "id": "kKndAYDp4KWM"
   },
   "outputs": [],
   "source": [
    "tri_test_features = tri_vector.transform(test_features)\n",
    "tri_test_features=pd.DataFrame(tri_test_features.toarray(), columns=tri_feature_names)"
   ]
  },
  {
   "cell_type": "code",
   "execution_count": 51,
   "metadata": {
    "execution": {
     "iopub.execute_input": "2023-04-20T00:40:19.275938Z",
     "iopub.status.busy": "2023-04-20T00:40:19.275444Z",
     "iopub.status.idle": "2023-04-20T00:40:21.125941Z",
     "shell.execute_reply": "2023-04-20T00:40:21.124675Z",
     "shell.execute_reply.started": "2023-04-20T00:40:19.275884Z"
    }
   },
   "outputs": [],
   "source": [
    "char3_test_features = char3_vector.transform(test_features)\n",
    "char3_test_features=pd.DataFrame(char3_test_features.toarray(), columns=char3_feature_names)"
   ]
  },
  {
   "cell_type": "code",
   "execution_count": 52,
   "metadata": {
    "_uuid": "54f1ac82e39c7b1d88aa86b25969a6994421f229",
    "colab": {},
    "colab_type": "code",
    "execution": {
     "iopub.execute_input": "2023-04-20T00:40:21.127517Z",
     "iopub.status.busy": "2023-04-20T00:40:21.127223Z",
     "iopub.status.idle": "2023-04-20T00:40:22.944239Z",
     "shell.execute_reply": "2023-04-20T00:40:22.943326Z",
     "shell.execute_reply.started": "2023-04-20T00:40:21.127461Z"
    },
    "id": "iiZSLhuK4KWY"
   },
   "outputs": [],
   "source": [
    "char4_test_features = char4_vector.transform(test_features)\n",
    "char4_test_features=pd.DataFrame(char4_test_features.toarray(), columns=char4_feature_names)"
   ]
  },
  {
   "cell_type": "code",
   "execution_count": 53,
   "metadata": {
    "_uuid": "fc4328b27a6d559754a09a1c67d105d839bb145d",
    "colab": {},
    "colab_type": "code",
    "execution": {
     "iopub.execute_input": "2023-04-20T00:40:22.946161Z",
     "iopub.status.busy": "2023-04-20T00:40:22.945878Z",
     "iopub.status.idle": "2023-04-20T00:40:22.950039Z",
     "shell.execute_reply": "2023-04-20T00:40:22.948716Z",
     "shell.execute_reply.started": "2023-04-20T00:40:22.946104Z"
    },
    "id": "A-GZ6n9K4KWf"
   },
   "outputs": [],
   "source": [
    "# char6_test_features = char6_vector.transform(test_features)\n",
    "# char6_test_features=pd.DataFrame(char6_test_features.toarray(), columns=char6_feature_names)"
   ]
  },
  {
   "cell_type": "code",
   "execution_count": 54,
   "metadata": {
    "_uuid": "7cc1e128d8be82fda77d16452ad0378ec6a63393",
    "colab": {},
    "colab_type": "code",
    "execution": {
     "iopub.execute_input": "2023-04-20T00:40:22.951768Z",
     "iopub.status.busy": "2023-04-20T00:40:22.951455Z",
     "iopub.status.idle": "2023-04-20T00:40:22.962093Z",
     "shell.execute_reply": "2023-04-20T00:40:22.961267Z",
     "shell.execute_reply.started": "2023-04-20T00:40:22.951703Z"
    },
    "id": "-7g50Ips4KWj"
   },
   "outputs": [],
   "source": [
    "# char7_test_features = char7_vector.transform(test_features)\n",
    "# char7_test_features=pd.DataFrame(char7_test_features.toarray(), columns=char7_feature_names)"
   ]
  },
  {
   "cell_type": "code",
   "execution_count": 55,
   "metadata": {
    "_uuid": "742c1a193e9c74d9e450e80c8637f9a08f2e0f64",
    "colab": {},
    "colab_type": "code",
    "execution": {
     "iopub.execute_input": "2023-04-20T00:40:22.963738Z",
     "iopub.status.busy": "2023-04-20T00:40:22.963414Z",
     "iopub.status.idle": "2023-04-20T00:40:22.975068Z",
     "shell.execute_reply": "2023-04-20T00:40:22.973746Z",
     "shell.execute_reply.started": "2023-04-20T00:40:22.963661Z"
    },
    "id": "T1v7fMCl4KWo"
   },
   "outputs": [],
   "source": [
    "# char8_test_features = char8_vector.transform(test_features)\n",
    "# char8_test_features=pd.DataFrame(char8_test_features.toarray(), columns=char8_feature_names)"
   ]
  },
  {
   "cell_type": "code",
   "execution_count": 56,
   "metadata": {
    "_uuid": "9f9010e787e0e2c499c95a45365e03e9f77f4378",
    "colab": {},
    "colab_type": "code",
    "execution": {
     "iopub.execute_input": "2023-04-20T00:40:22.977001Z",
     "iopub.status.busy": "2023-04-20T00:40:22.976720Z",
     "iopub.status.idle": "2023-04-20T00:40:22.985767Z",
     "shell.execute_reply": "2023-04-20T00:40:22.984809Z",
     "shell.execute_reply.started": "2023-04-20T00:40:22.976952Z"
    },
    "id": "E-nM-e3C4KWr"
   },
   "outputs": [],
   "source": [
    "# char9_test_features = char9_vector.transform(test_features)\n",
    "# char9_test_features=pd.DataFrame(char9_test_features.toarray(), columns=char9_feature_names)"
   ]
  },
  {
   "cell_type": "code",
   "execution_count": 57,
   "metadata": {
    "_uuid": "0d77d7e0108e3975f940a2f1c0b5b88715ee9da7",
    "colab": {},
    "colab_type": "code",
    "execution": {
     "iopub.execute_input": "2023-04-20T00:40:22.987321Z",
     "iopub.status.busy": "2023-04-20T00:40:22.987052Z",
     "iopub.status.idle": "2023-04-20T00:40:22.996713Z",
     "shell.execute_reply": "2023-04-20T00:40:22.995848Z",
     "shell.execute_reply.started": "2023-04-20T00:40:22.987249Z"
    },
    "id": "T0e50AVP4KWv"
   },
   "outputs": [],
   "source": [
    "# char10_test_features = char10_vector.transform(test_features)\n",
    "# char10_test_features=pd.DataFrame(char10_test_features.toarray(), columns=char10_feature_names)"
   ]
  },
  {
   "cell_type": "markdown",
   "metadata": {
    "_uuid": "7b72ddc6292dbeb7835fd8ba1601f68c2847971e",
    "colab_type": "text",
    "id": "LA-wcVUT4KWy"
   },
   "source": [
    "### Evaluating using Test Data"
   ]
  },
  {
   "cell_type": "code",
   "execution_count": 58,
   "metadata": {
    "execution": {
     "iopub.execute_input": "2023-04-20T00:40:22.998126Z",
     "iopub.status.busy": "2023-04-20T00:40:22.997847Z",
     "iopub.status.idle": "2023-04-20T00:40:23.007521Z",
     "shell.execute_reply": "2023-04-20T00:40:23.006440Z",
     "shell.execute_reply.started": "2023-04-20T00:40:22.998079Z"
    }
   },
   "outputs": [],
   "source": [
    "from sklearn.metrics import accuracy_score"
   ]
  },
  {
   "cell_type": "markdown",
   "metadata": {
    "_uuid": "530c09840f5d9f11aeff443a710e412a97521fe9",
    "colab_type": "text",
    "id": "B4SsWhJe4KWz"
   },
   "source": [
    "#### Random forest Classififier"
   ]
  },
  {
   "cell_type": "code",
   "execution_count": 59,
   "metadata": {
    "_uuid": "734b8aa662d058eb4c2f886ead9b73488cbfee88",
    "colab": {},
    "colab_type": "code",
    "execution": {
     "iopub.execute_input": "2023-04-20T00:40:23.009086Z",
     "iopub.status.busy": "2023-04-20T00:40:23.008762Z",
     "iopub.status.idle": "2023-04-20T00:40:28.367516Z",
     "shell.execute_reply": "2023-04-20T00:40:28.366657Z",
     "shell.execute_reply.started": "2023-04-20T00:40:23.009030Z"
    },
    "id": "dnKyF_rn4KW0"
   },
   "outputs": [],
   "source": [
    "predictions_uni_rfc = rfc_uni.predict(uni_test_features)     \n",
    "uni_rfc = accuracy_score(test_labels, predictions_uni_rfc)       \n",
    "\n",
    "predictions_bi_rfc = rfc_bi.predict(bi_test_features)        \n",
    "bi_rfc = accuracy_score(test_labels, predictions_bi_rfc)  \n",
    "\n",
    "predictions_tri_rfc = rfc_tri.predict(tri_test_features)   \n",
    "tri_rfc = accuracy_score(test_labels, predictions_tri_rfc) \n",
    "\n",
    "predictions_char3_rfc = rfc_char3.predict(char3_test_features)   \n",
    "char3_rfc = accuracy_score(test_labels, predictions_char3_rfc) \n",
    "\n",
    "predictions_char4_rfc = rfc_char4.predict(char4_test_features)   \n",
    "char4_rfc = accuracy_score(test_labels, predictions_char4_rfc)    \n",
    "\n",
    "# predictions_char5_rfc = rfc_char5.predict(char5_test_features)    \n",
    "# char5_rfc = accuracy_score(test_labels, predictions_char5_rfc)    \n",
    "\n",
    "# predictions_char6_rfc = rfc_char6.predict(char6_test_features)   \n",
    "# char6_rfc = accuracy_score(test_labels, predictions_char6_rfc)       \n",
    "\n",
    "# predictions_char7_rfc = rfc_char7.predict(char7_test_features) \n",
    "# char7_rfc = accuracy_score(test_labels, predictions_char7_rfc)    \n",
    "\n",
    "# predictions_char8_rfc = rfc_char8.predict(char8_test_features)     \n",
    "# char8_rfc = accuracy_score(test_labels, predictions_char8_rfc)     \n",
    "\n",
    "# predictions_char9_rfc = rfc_char9.predict(char9_test_features)      \n",
    "# char9_rfc = accuracy_score(test_labels, predictions_char9_rfc)        \n",
    "\n",
    "# predictions_char10_rfc = rfc_char10.predict(char10_test_features)         \n",
    "# char10_rfc = accuracy_score(test_labels, predictions_char10_rfc)         "
   ]
  },
  {
   "cell_type": "markdown",
   "metadata": {},
   "source": [
    "#### Naive Bayes"
   ]
  },
  {
   "cell_type": "code",
   "execution_count": 60,
   "metadata": {
    "execution": {
     "iopub.execute_input": "2023-04-20T00:40:28.368965Z",
     "iopub.status.busy": "2023-04-20T00:40:28.368559Z",
     "iopub.status.idle": "2023-04-20T00:40:30.822677Z",
     "shell.execute_reply": "2023-04-20T00:40:30.821557Z",
     "shell.execute_reply.started": "2023-04-20T00:40:28.368904Z"
    }
   },
   "outputs": [],
   "source": [
    "predictions_uni_nb= nb_uni.predict(uni_test_features)         \n",
    "uni_nb = accuracy_score(test_labels, predictions_uni_nb)          \n",
    "\n",
    "predictions_bi_nb= nb_bi.predict(bi_test_features)         \n",
    "bi_nb = accuracy_score(test_labels, predictions_bi_nb)          \n",
    "\n",
    "predictions_tri_nb = nb_tri.predict(tri_test_features)  \n",
    "tri_nb = accuracy_score(test_labels, predictions_tri_nb) \n",
    "\n",
    "predictions_char3_nb = nb_char3.predict(char3_test_features)         \n",
    "char3_nb = accuracy_score(test_labels, predictions_char3_nb) \n",
    "\n",
    "predictions_char4_nb = nb_char4.predict(char4_test_features)         \n",
    "char4_nb = accuracy_score(test_labels, predictions_char4_nb)      \n",
    "\n",
    "# predictions_char5_nb = nb_char5.predict(char5_test_features)        \n",
    "# char5_nb = accuracy_score(test_labels, predictions_char5_nb)    \n",
    "\n",
    "# predictions_char6_nb = nb_char6.predict(char6_test_features)       \n",
    "# char6_nb = accuracy_score(test_labels, predictions_char6_nb)    \n",
    "\n",
    "# predictions_char7_nb = nb_char7.predict(char7_test_features)        \n",
    "# char7_nb = accuracy_score(test_labels, predictions_char7_nb)       \n",
    "\n",
    "# predictions_char8_nb = nb_char8.predict(char8_test_features)         \n",
    "# char8_nb = accuracy_score(test_labels, predictions_char8_nb)      \n",
    "\n",
    "# predictions_char9_nb = nb_char9.predict(char9_test_features)      \n",
    "# char9_nb = accuracy_score(test_labels, predictions_char9_nb)    \n",
    "\n",
    "# predictions_char10_nb = nb_char10.predict(char10_test_features)      \n",
    "# char10_nb = accuracy_score(test_labels, predictions_char10_nb)    "
   ]
  },
  {
   "cell_type": "markdown",
   "metadata": {
    "_uuid": "eb34357180af888f6b9fa2a6e3ba059b57cd3b21",
    "colab_type": "text",
    "id": "T-svKjoE4KW3"
   },
   "source": [
    "#### LinearSVC"
   ]
  },
  {
   "cell_type": "code",
   "execution_count": 61,
   "metadata": {
    "_uuid": "7e0870a9732e8bc445b60bcc8d3a540b9d113752",
    "colab": {},
    "colab_type": "code",
    "execution": {
     "iopub.execute_input": "2023-04-20T00:40:30.824722Z",
     "iopub.status.busy": "2023-04-20T00:40:30.824146Z",
     "iopub.status.idle": "2023-04-20T00:40:33.359047Z",
     "shell.execute_reply": "2023-04-20T00:40:33.358032Z",
     "shell.execute_reply.started": "2023-04-20T00:40:30.824644Z"
    },
    "id": "4Igdk9P94KW5"
   },
   "outputs": [],
   "source": [
    "predictions_uni_lsvc= lsvc_uni.predict(uni_test_features)         \n",
    "uni_lsvc = accuracy_score(test_labels, predictions_uni_lsvc)          \n",
    "\n",
    "predictions_bi_lsvc = lsvc_bi.predict(bi_test_features)        \n",
    "bi_lsvc = accuracy_score(test_labels, predictions_bi_lsvc)          \n",
    "\n",
    "predictions_tri_lsvc = lsvc_tri.predict(tri_test_features)  \n",
    "tri_lsvc = accuracy_score(test_labels, predictions_tri_lsvc) \n",
    "\n",
    "predictions_char3_lsvc = lsvc_char3.predict(char3_test_features)         \n",
    "char3_lsvc = accuracy_score(test_labels, predictions_char3_lsvc) \n",
    "\n",
    "predictions_char4_lsvc = lsvc_char4.predict(char4_test_features)         \n",
    "char4_lsvc = accuracy_score(test_labels, predictions_char4_lsvc)      \n",
    "\n",
    "# predictions_char5_lsvc = lsvc_char5.predict(char5_test_features)        \n",
    "# char5_lsvc = accuracy_score(test_labels, predictions_char5_lsvc)    \n",
    "\n",
    "# predictions_char6_lsvc = lsvc_char6.predict(char6_test_features)       \n",
    "# char6_lsvc = accuracy_score(test_labels, predictions_char6_lsvc)    \n",
    "\n",
    "# predictions_char7_lsvc = lsvc_char7.predict(char7_test_features)        \n",
    "# char7_lsvc = accuracy_score(test_labels, predictions_char7_lsvc)       \n",
    "\n",
    "# predictions_char8_lsvc = lsvc_char8.predict(char8_test_features)         \n",
    "# char8_lsvc = accuracy_score(test_labels, predictions_char8_lsvc)      \n",
    "\n",
    "# predictions_char9_lsvc = lsvc_char9.predict(char9_test_features)      \n",
    "# char9_lsvc = accuracy_score(test_labels, predictions_char9_lsvc)    \n",
    "\n",
    "# predictions_char10_lsvc = lsvc_char10.predict(char10_test_features)      \n",
    "# char10_lsvc = accuracy_score(test_labels, predictions_char10_lsvc)    "
   ]
  },
  {
   "cell_type": "markdown",
   "metadata": {
    "_uuid": "f009494a13b7a8789d5d6b09180f28a0cfb6aaf4",
    "colab_type": "text",
    "id": "W59cYgmW5kQi"
   },
   "source": [
    "#### Logistic Regression"
   ]
  },
  {
   "cell_type": "code",
   "execution_count": 62,
   "metadata": {
    "_uuid": "af56ecfc738357b1cf2c287c467368393ebb5f85",
    "colab": {},
    "colab_type": "code",
    "execution": {
     "iopub.execute_input": "2023-04-20T00:40:33.360682Z",
     "iopub.status.busy": "2023-04-20T00:40:33.360387Z",
     "iopub.status.idle": "2023-04-20T00:40:35.864648Z",
     "shell.execute_reply": "2023-04-20T00:40:35.863847Z",
     "shell.execute_reply.started": "2023-04-20T00:40:33.360624Z"
    },
    "id": "YKW_0ay35kQo"
   },
   "outputs": [],
   "source": [
    "predictions_uni_lr = lr_uni.predict(uni_test_features)         \n",
    "uni_lr = accuracy_score(test_labels, predictions_uni_lr)     \n",
    "\n",
    "predictions_bi_lr = lr_bi.predict(bi_test_features)    \n",
    "bi_lr = accuracy_score(test_labels, predictions_bi_lr)    \n",
    "\n",
    "predictions_tri_lr = lr_tri.predict(tri_test_features)   \n",
    "tri_lr = accuracy_score(test_labels, predictions_tri_lr) \n",
    "\n",
    "predictions_char3_lr = lr_char3.predict(char3_test_features)     \n",
    "char3_lr = accuracy_score(test_labels, predictions_char3_lr) \n",
    "\n",
    "predictions_char4_lr = lr_char4.predict(char4_test_features)     \n",
    "char4_lr = accuracy_score(test_labels, predictions_char4_lr)    \n",
    "\n",
    "# predictions_char5_lr = lr_char5.predict(char5_test_features)  \n",
    "# char5_lr = accuracy_score(test_labels, predictions_char5_lr)  \n",
    "\n",
    "# predictions_char6_lr = lr_char6.predict(char6_test_features)     \n",
    "# char6_lr = accuracy_score(test_labels, predictions_char6_lr)   \n",
    "\n",
    "# predictions_char7_lr = lr_char7.predict(char7_test_features)       \n",
    "# char7_lr = accuracy_score(test_labels, predictions_char7_lr)     \n",
    "\n",
    "# predictions_char8_lr = lr_char8.predict(char8_test_features)        \n",
    "# char8_lr = accuracy_score(test_labels, predictions_char8_lr)      \n",
    "\n",
    "# predictions_char9_lr = lr_char9.predict(char9_test_features)     \n",
    "# char9_lr = accuracy_score(test_labels, predictions_char9_lr)      \n",
    "\n",
    "# predictions_char10_lr = lr_char10.predict(char10_test_features)     \n",
    "# char10_lr = accuracy_score(test_labels, predictions_char10_lr)         "
   ]
  },
  {
   "cell_type": "markdown",
   "metadata": {
    "_uuid": "7dee8670f11ca9f502ec7da6f486ef7104675f7c",
    "colab_type": "text",
    "id": "j_xlXfxx4KW8"
   },
   "source": [
    "### Selection of Best Model\n"
   ]
  },
  {
   "cell_type": "code",
   "execution_count": 63,
   "metadata": {
    "execution": {
     "iopub.execute_input": "2023-04-20T00:40:35.866247Z",
     "iopub.status.busy": "2023-04-20T00:40:35.865832Z",
     "iopub.status.idle": "2023-04-20T00:40:42.758127Z",
     "shell.execute_reply": "2023-04-20T00:40:42.757018Z",
     "shell.execute_reply.started": "2023-04-20T00:40:35.866203Z"
    }
   },
   "outputs": [
    {
     "name": "stdout",
     "output_type": "stream",
     "text": [
      "Requirement already satisfied: prettytable in /opt/conda/lib/python3.6/site-packages (2.5.0)\n",
      "Requirement already satisfied: importlib-metadata; python_version < \"3.8\" in /opt/conda/lib/python3.6/site-packages (from prettytable) (4.8.3)\n",
      "Requirement already satisfied: wcwidth in /opt/conda/lib/python3.6/site-packages (from prettytable) (0.1.7)\n",
      "Requirement already satisfied: zipp>=0.5 in /opt/conda/lib/python3.6/site-packages (from importlib-metadata; python_version < \"3.8\"->prettytable) (3.6.0)\n",
      "Requirement already satisfied: typing-extensions>=3.6.4; python_version < \"3.8\" in /opt/conda/lib/python3.6/site-packages (from importlib-metadata; python_version < \"3.8\"->prettytable) (4.1.1)\n",
      "\u001b[33mYou are using pip version 18.1, however version 21.3.1 is available.\n",
      "You should consider upgrading via the 'pip install --upgrade pip' command.\u001b[0m\n"
     ]
    }
   ],
   "source": [
    "!pip install prettytable"
   ]
  },
  {
   "cell_type": "code",
   "execution_count": 64,
   "metadata": {
    "_uuid": "205955baa65c6a8c70bda807f57b49bc9731750a",
    "colab": {
     "base_uri": "https://localhost:8080/",
     "height": 289
    },
    "colab_type": "code",
    "execution": {
     "iopub.execute_input": "2023-04-20T00:40:42.760460Z",
     "iopub.status.busy": "2023-04-20T00:40:42.760142Z",
     "iopub.status.idle": "2023-04-20T00:40:43.578334Z",
     "shell.execute_reply": "2023-04-20T00:40:43.577388Z",
     "shell.execute_reply.started": "2023-04-20T00:40:42.760399Z"
    },
    "id": "ELPGiMer4KW8",
    "outputId": "a4a3e6f7-6b2d-4f44-8f98-cb09772f68c4"
   },
   "outputs": [
    {
     "name": "stdout",
     "output_type": "stream",
     "text": [
      "Detailed performance of all models:\n",
      "+-----------------+---------------------------------+---------------------+------------------------+---------------------------+\n",
      "|                 |    Random forest Classififier   |     Naive Bayes     |      Linear SVC        |    Logistic Regression    |\n",
      "+-----------------+---------------------------------+---------------------+------------------------+---------------------------+\n",
      "|     Uni Gram    |               0.87              |         0.82        |          0.88          |            0.88           |\n",
      "|     Bi Gram     |               0.35              |         0.33        |          0.35          |            0.35           |\n",
      "|     Tri Gram    |               0.15              |         0.13        |          0.15          |            0.15           |\n",
      "|   3 Char Gram   |               0.89              |         0.84        |          0.92          |            0.92           |\n",
      "|   4 Char Gram   |               0.8               |         0.74        |          0.83          |            0.82           |\n",
      "+-----------------+---------------------------------+---------------------+------------------------+---------------------------+\n"
     ]
    }
   ],
   "source": [
    "from prettytable import PrettyTable\n",
    "from astropy.table import Table, Column\n",
    "Model_Table = PrettyTable()\n",
    "Model_Table.field_names = [\" \", \"   Random forest Classififier  \",\"    Naive Bayes    \", \"     Linear SVC       \",\"   Logistic Regression   \"]\n",
    "Model_Table.add_row([\"  Uni Gram  \", round(uni_rfc,2), round(uni_nb, 2),round(uni_lsvc,2),round(uni_lr,2)])\n",
    "Model_Table.add_row([\"  Bi Gram  \", round(bi_rfc,2), round(bi_nb, 2),round(bi_lsvc,2),round(bi_lr,2)])\n",
    "Model_Table.add_row([\"  Tri Gram  \", round(tri_rfc,2), round(tri_nb, 2),round(tri_lsvc,2),round(tri_lr,2)])\n",
    "Model_Table.add_row([\"  3 Char Gram  \", round(char3_rfc,2), round(char3_nb, 2),round(char3_lsvc,2),round(char3_lr,2)])\n",
    "Model_Table.add_row([\"  4 Char Gram  \", round(char4_rfc,2), round(char4_nb, 2),round(char4_lsvc,2),round(char4_lr,2)])\n",
    "# Model_Table.add_row([\"  5 Char Gram  \", round(char5_rfc,2), round(char5_nb, 2),round(char5_lsvc,2),round(char5_lr,2)])\n",
    "# Model_Table.add_row([\"  6 Char Gram  \", round(char6_rfc,2), round(char6_nb, 2),round(char6_lsvc,2),round(char6_lr,2)])\n",
    "# Model_Table.add_row([\"  7 Char Gram  \", round(char7_rfc,2), round(char7_nb, 2),round(char7_lsvc,2),round(char7_lr,2)])\n",
    "# Model_Table.add_row([\"  8 Char Gram  \", round(char8_rfc,2), round(char8_nb, 2),round(char8_lsvc,2),round(char8_lr,2)])\n",
    "# Model_Table.add_row([\"  9 Char Gram  \", round(char9_rfc,2), round(char9_nb, 2),round(char9_lsvc,2),round(char9_lr,2)])\n",
    "# Model_Table.add_row([\"  10 Char Gram  \", round(char10_rfc,2),round(char10_nb, 2),round(char10_lsvc,2),round(char10_lr,2)])\n",
    "print(\"Detailed performance of all models:\")\n",
    "print(Model_Table)"
   ]
  },
  {
   "cell_type": "code",
   "execution_count": 65,
   "metadata": {
    "_uuid": "83fedf9ae44b8eb31ccbeb261e70f4020fb8e22b",
    "colab": {
     "base_uri": "https://localhost:8080/",
     "height": 136
    },
    "colab_type": "code",
    "execution": {
     "iopub.execute_input": "2023-04-20T00:40:43.580360Z",
     "iopub.status.busy": "2023-04-20T00:40:43.580063Z",
     "iopub.status.idle": "2023-04-20T00:40:43.588440Z",
     "shell.execute_reply": "2023-04-20T00:40:43.587529Z",
     "shell.execute_reply.started": "2023-04-20T00:40:43.580304Z"
    },
    "id": "pUIGWyKI4KXA",
    "outputId": "27db1af8-f302-4a5d-9b3f-c4c79fb61c81"
   },
   "outputs": [
    {
     "name": "stdout",
     "output_type": "stream",
     "text": [
      "Best Model\n",
      "+-----------------+---------------------------------+---------------------+---------------------------+---------------------------+\n",
      "|                 |    Random forest Classififier   |      Naive Bayes    |      Linear SVC           |    Logistic Regression    |\n",
      "+-----------------+---------------------------------+---------------------+---------------------------+---------------------------+\n",
      "|     Uni Gram    |               0.87              |         0.82        |            0.88           |            0.88           |\n",
      "|   3 Char Gram   |               0.89              |         0.84        |            0.92           |            0.92           |\n",
      "+-----------------+---------------------------------+---------------------+---------------------------+---------------------------+\n"
     ]
    }
   ],
   "source": [
    "\n",
    "Best_Model = PrettyTable()\n",
    "Best_Model.field_names = [\" \", \"   Random forest Classififier  \", \"     Naive Bayes   \", \"     Linear SVC          \",\"   Logistic Regression   \"]\n",
    "Best_Model.add_row([\"  Uni Gram  \", round(uni_rfc,2), round(uni_nb,2) ,round(uni_lsvc,2),round(uni_lr,2)])\n",
    "Best_Model.add_row([\"  3 Char Gram  \", round(char3_rfc,2), round(char3_nb,2),round(char3_lsvc,2),round(char3_lr,2)])\n",
    "# Best_Model.add_row([\"  4 Char Gram  \", round(char4_rfc,2), round(char4_nb,2),round(char4_lsvc,2),round(char4_lr,2)])\n",
    "# Best_Model.add_row([\"  5 Char Gram  \", round(char5_rfc,2), round(char5_nb,2),round(char5_lsvc,2),round(char5_lr,2)])\n",
    "# Best_Model.add_row([\"  8 Char Gram  \", round(char8_rfc,2), round(char8_nb,2),round(char8_lsvc,2),round(char8_lr,2)])\n",
    "print(\"Best Model\")\n",
    "print(Best_Model)"
   ]
  },
  {
   "cell_type": "markdown",
   "metadata": {
    "_uuid": "828f0b9715180ed18da71d3bebc763b399604067",
    "colab_type": "text",
    "id": "KSlTpY_X4KXN"
   },
   "source": [
    "## Application Phase\n",
    "\n",
    "#### Combine Data (Train + Test )"
   ]
  },
  {
   "cell_type": "code",
   "execution_count": 66,
   "metadata": {
    "_uuid": "2f3a0efce6355aa3acf7819f3eaf0794538fb343",
    "colab": {},
    "colab_type": "code",
    "execution": {
     "iopub.execute_input": "2023-04-20T00:40:43.590545Z",
     "iopub.status.busy": "2023-04-20T00:40:43.590233Z",
     "iopub.status.idle": "2023-04-20T00:40:47.328227Z",
     "shell.execute_reply": "2023-04-20T00:40:47.327127Z",
     "shell.execute_reply.started": "2023-04-20T00:40:43.590489Z"
    },
    "id": "LweGbcFW4KXO"
   },
   "outputs": [],
   "source": [
    "features = uni_vector.transform(dataset.sentence)\n",
    "target=language"
   ]
  },
  {
   "cell_type": "code",
   "execution_count": 67,
   "metadata": {
    "_uuid": "b49387be9cc4679e486981fa6dced0063d86c97e",
    "colab": {},
    "colab_type": "code",
    "execution": {
     "iopub.execute_input": "2023-04-20T00:40:47.329921Z",
     "iopub.status.busy": "2023-04-20T00:40:47.329585Z",
     "iopub.status.idle": "2023-04-20T00:42:03.118808Z",
     "shell.execute_reply": "2023-04-20T00:42:03.117683Z",
     "shell.execute_reply.started": "2023-04-20T00:40:47.329865Z"
    },
    "id": "qYgXBlbG4KXS"
   },
   "outputs": [],
   "source": [
    "model=lr_uni.fit(features, target)"
   ]
  },
  {
   "cell_type": "code",
   "execution_count": 68,
   "metadata": {
    "_uuid": "5250c856aa09204200361d3a1e33dab66f34ec38",
    "colab": {},
    "colab_type": "code",
    "execution": {
     "iopub.execute_input": "2023-04-20T00:42:03.121129Z",
     "iopub.status.busy": "2023-04-20T00:42:03.120730Z",
     "iopub.status.idle": "2023-04-20T00:42:03.126896Z",
     "shell.execute_reply": "2023-04-20T00:42:03.125879Z",
     "shell.execute_reply.started": "2023-04-20T00:42:03.121049Z"
    },
    "id": "4486UUe14KXX"
   },
   "outputs": [],
   "source": [
    "import pickle\n",
    "filename = 'unigram_model.sav'\n",
    "pickle.dump(model, open(filename, 'wb'))"
   ]
  },
  {
   "cell_type": "markdown",
   "metadata": {
    "_uuid": "5e2ed43ea9549e50891ed4d904245ab8ff46091a",
    "colab_type": "text",
    "id": "tMLtq69h4KXb"
   },
   "source": [
    "### Make prediction on unseen/new data"
   ]
  },
  {
   "cell_type": "code",
   "execution_count": 69,
   "metadata": {
    "_uuid": "970cc6a422402c503082c4368c4c65fac6d466a4",
    "colab": {},
    "colab_type": "code",
    "execution": {
     "iopub.execute_input": "2023-04-20T00:42:03.128648Z",
     "iopub.status.busy": "2023-04-20T00:42:03.128358Z",
     "iopub.status.idle": "2023-04-20T00:42:03.142178Z",
     "shell.execute_reply": "2023-04-20T00:42:03.141207Z",
     "shell.execute_reply.started": "2023-04-20T00:42:03.128594Z"
    },
    "id": "k3Xla-Xm4KXc"
   },
   "outputs": [],
   "source": [
    "# # load the model from disk\n",
    "# filename = '/kaggle/working/unigram_model.sav'\n",
    "# model = pickle.load(open(filename, 'rb'))"
   ]
  },
  {
   "cell_type": "markdown",
   "metadata": {
    "_uuid": "40d9f99cb0fbfd9d6facde38eaea379636b3b9f0",
    "colab_type": "text",
    "id": "NVbSFR-G4KXe"
   },
   "source": [
    "#### Input from User"
   ]
  },
  {
   "cell_type": "code",
   "execution_count": 82,
   "metadata": {
    "_uuid": "d159bf24f3ea7d1aeb6c35b3dfa8815b8e59bb9c",
    "colab": {
     "base_uri": "https://localhost:8080/",
     "height": 71
    },
    "colab_type": "code",
    "execution": {
     "iopub.execute_input": "2023-04-20T00:48:26.453301Z",
     "iopub.status.busy": "2023-04-20T00:48:26.452911Z",
     "iopub.status.idle": "2023-04-20T00:48:26.458767Z",
     "shell.execute_reply": "2023-04-20T00:48:26.457787Z",
     "shell.execute_reply.started": "2023-04-20T00:48:26.453251Z"
    },
    "id": "JADdnA2t4KXf",
    "outputId": "bd325260-3c66-4852-c349-b2951394767d"
   },
   "outputs": [],
   "source": [
    "# comment =input(\"please enter a text paragraph: \\n\")\n",
    "\n",
    "# comment = 'عدم عل عُقر ويتّفق ارتكبها. شعار سقطت وفي ٣٠, ذات بالفشل ومحاولة والمعدات هو. بينما الأسيوي بريطانيا-فرنسا تحت بل, انه أسيا تحرّكت واندونيسيا، كل. مع الإنزال الأسيوي ضرب.' # Arabic\n",
    "# comment = 'सभी मनुष्यों को गौरव और अधिकारों के मामले में जन्मजात स्वतन्त्रता और समानता प्राप्त है। उन्हें बुद्धि और अन्तरात्मा की देन प्राप्त है और परस्पर उन्हें भाईचारे के भाव से बर्ताव करना चाहिये।' # Hindi\n",
    "comment = 'Der Mann gibt dem Hund den Knochen.' #German\n",
    "#comment = 'Vandaag ga ik op de fiets naar het werk' #Dutch"
   ]
  },
  {
   "cell_type": "markdown",
   "metadata": {
    "_uuid": "bbb3538ee63f96bf533f81d9cc975586fc5d63c3",
    "colab_type": "text",
    "id": "b1pIeeN64KXk"
   },
   "source": [
    "#### Convert User Input into Feature Vector"
   ]
  },
  {
   "cell_type": "code",
   "execution_count": 83,
   "metadata": {
    "_uuid": "b2b2f37c53b0a4b28f96eb3d85818b53e0723ef7",
    "colab": {},
    "colab_type": "code",
    "execution": {
     "iopub.execute_input": "2023-04-20T00:48:28.369043Z",
     "iopub.status.busy": "2023-04-20T00:48:28.368378Z",
     "iopub.status.idle": "2023-04-20T00:48:28.375403Z",
     "shell.execute_reply": "2023-04-20T00:48:28.374229Z",
     "shell.execute_reply.started": "2023-04-20T00:48:28.368988Z"
    },
    "id": "NeHNaHZN4KXs"
   },
   "outputs": [],
   "source": [
    "user_input= uni_vector.transform([comment])\n",
    "a=user_input.toarray()\n",
    "user_input=pd.DataFrame(a, columns=uni_feature_names)"
   ]
  },
  {
   "cell_type": "markdown",
   "metadata": {
    "_uuid": "42ed08223fe7dcba86a9bfd39a2509eb4b26bb22",
    "colab_type": "text",
    "id": "TvVh1La04KXw"
   },
   "source": [
    "#### Applying to Trained Model"
   ]
  },
  {
   "cell_type": "code",
   "execution_count": 84,
   "metadata": {
    "_uuid": "99d098b359920db50d089dadcd1032418a542a85",
    "colab": {},
    "colab_type": "code",
    "execution": {
     "iopub.execute_input": "2023-04-20T00:48:28.924180Z",
     "iopub.status.busy": "2023-04-20T00:48:28.923790Z",
     "iopub.status.idle": "2023-04-20T00:48:28.937005Z",
     "shell.execute_reply": "2023-04-20T00:48:28.935737Z",
     "shell.execute_reply.started": "2023-04-20T00:48:28.924107Z"
    },
    "id": "VRRpVikz4KXw"
   },
   "outputs": [],
   "source": [
    "language = model.predict(user_input)  "
   ]
  },
  {
   "cell_type": "code",
   "execution_count": 85,
   "metadata": {
    "_uuid": "78adec620a72f040947a8c372c9039efedeaa9a1",
    "colab": {
     "base_uri": "https://localhost:8080/",
     "height": 34
    },
    "colab_type": "code",
    "execution": {
     "iopub.execute_input": "2023-04-20T00:48:29.691171Z",
     "iopub.status.busy": "2023-04-20T00:48:29.690833Z",
     "iopub.status.idle": "2023-04-20T00:48:29.696250Z",
     "shell.execute_reply": "2023-04-20T00:48:29.695112Z",
     "shell.execute_reply.started": "2023-04-20T00:48:29.691119Z"
    },
    "id": "Tu1uui9m4KXz",
    "outputId": "96089b62-7782-40ee-fc60-928fd1fdba31"
   },
   "outputs": [
    {
     "name": "stdout",
     "output_type": "stream",
     "text": [
      "Language :  ['German']\n"
     ]
    }
   ],
   "source": [
    "a=[language[i] for i in [0]]\n",
    "print(\"Language : \",a)"
   ]
  }
 ],
 "metadata": {
  "colab": {
   "collapsed_sections": [],
   "name": "Language Identification.ipynb",
   "provenance": [],
   "version": "0.3.2"
  },
  "kernelspec": {
   "display_name": "Python 3 (ipykernel)",
   "language": "python",
   "name": "python3"
  },
  "language_info": {
   "codemirror_mode": {
    "name": "ipython",
    "version": 3
   },
   "file_extension": ".py",
   "mimetype": "text/x-python",
   "name": "python",
   "nbconvert_exporter": "python",
   "pygments_lexer": "ipython3",
   "version": "3.9.12"
  }
 },
 "nbformat": 4,
 "nbformat_minor": 4
}
